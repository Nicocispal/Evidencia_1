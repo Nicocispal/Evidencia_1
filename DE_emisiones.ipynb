{
 "cells": [
  {
   "cell_type": "code",
   "execution_count": 2,
   "metadata": {},
   "outputs": [
    {
     "name": "stderr",
     "output_type": "stream",
     "text": [
      "/Users/nicocisneros/Desktop/PERSONAL/TEC/SEXTO SEMESTRE/AI AND DA I/Evidencia_comisiones/processing_emisiones.py:9: DtypeWarning: Columns (1) have mixed types. Specify dtype option on import or set low_memory=False.\n",
      "  df_emision= pd.read_csv(sio_file_emision, encoding = 'utf8', sep = ',', on_bad_lines='warn')\n"
     ]
    },
    {
     "name": "stdout",
     "output_type": "stream",
     "text": [
      "<class 'pandas.core.frame.DataFrame'>\n",
      "RangeIndex: 816498 entries, 0 to 816497\n",
      "Data columns (total 11 columns):\n",
      " #   Column                  Non-Null Count   Dtype \n",
      "---  ------                  --------------   ----- \n",
      " 0   EDAD                    816498 non-null  object\n",
      " 1   COBERTURA               816498 non-null  object\n",
      " 2   PLAN DE LA POLIZA       816498 non-null  object\n",
      " 3   MODALIDAD DE LA POLIZA  816498 non-null  object\n",
      " 4   MONEDA                  816498 non-null  object\n",
      " 5   ENTIDAD                 816498 non-null  object\n",
      " 6   SEXO                    816498 non-null  object\n",
      " 7   FORMA DE VENTA          816498 non-null  object\n",
      " 8   NUMERO DE ASEGURADOS    816498 non-null  object\n",
      " 9   PRIMA EMITIDA           816498 non-null  object\n",
      " 10  SUMA ASEGURADA          816498 non-null  object\n",
      "dtypes: object(11)\n",
      "memory usage: 68.5+ MB\n",
      "None\n",
      "EDAD                      0\n",
      "COBERTURA                 0\n",
      "PLAN DE LA POLIZA         0\n",
      "MODALIDAD DE LA POLIZA    0\n",
      "MONEDA                    0\n",
      "ENTIDAD                   0\n",
      "SEXO                      0\n",
      "FORMA DE VENTA            0\n",
      "NUMERO DE ASEGURADOS      0\n",
      "PRIMA EMITIDA             0\n",
      "SUMA ASEGURADA            0\n",
      "dtype: int64\n",
      "EDAD\n",
      "<class 'pandas.core.frame.DataFrame'>\n",
      "RangeIndex: 816498 entries, 0 to 816497\n",
      "Data columns (total 11 columns):\n",
      " #   Column                  Non-Null Count   Dtype \n",
      "---  ------                  --------------   ----- \n",
      " 0   EDAD                    816498 non-null  int64 \n",
      " 1   COBERTURA               816498 non-null  object\n",
      " 2   PLAN DE LA POLIZA       816498 non-null  object\n",
      " 3   MODALIDAD DE LA POLIZA  816498 non-null  object\n",
      " 4   MONEDA                  816498 non-null  object\n",
      " 5   ENTIDAD                 816498 non-null  object\n",
      " 6   SEXO                    816498 non-null  object\n",
      " 7   FORMA DE VENTA          816498 non-null  object\n",
      " 8   NUMERO DE ASEGURADOS    816498 non-null  int64 \n",
      " 9   PRIMA EMITIDA           816498 non-null  int64 \n",
      " 10  SUMA ASEGURADA          816498 non-null  int64 \n",
      "dtypes: int64(4), object(7)\n",
      "memory usage: 68.5+ MB\n",
      "None\n",
      "Index(['EDAD', 'COBERTURA', 'PLAN DE LA POLIZA', 'MODALIDAD DE LA POLIZA',\n",
      "       'MONEDA', 'ENTIDAD ', 'SEXO', 'FORMA DE VENTA', 'NUMERO DE ASEGURADOS',\n",
      "       'PRIMA EMITIDA', 'SUMA ASEGURADA'],\n",
      "      dtype='object')\n",
      "<class 'pandas.core.frame.DataFrame'>\n",
      "RangeIndex: 816498 entries, 0 to 816497\n",
      "Data columns (total 11 columns):\n",
      " #   Column                  Non-Null Count   Dtype \n",
      "---  ------                  --------------   ----- \n",
      " 0   EDAD                    816498 non-null  int64 \n",
      " 1   COBERTURA               816498 non-null  object\n",
      " 2   PLAN DE LA POLIZA       816498 non-null  object\n",
      " 3   MODALIDAD DE LA POLIZA  816498 non-null  object\n",
      " 4   MONEDA                  816498 non-null  object\n",
      " 5   ENTIDAD                 816498 non-null  object\n",
      " 6   SEXO                    816498 non-null  object\n",
      " 7   FORMA DE VENTA          816498 non-null  object\n",
      " 8   NUMERO DE ASEGURADOS    816498 non-null  int64 \n",
      " 9   PRIMA EMITIDA           816498 non-null  int64 \n",
      " 10  SUMA ASEGURADA          816498 non-null  int64 \n",
      "dtypes: int64(4), object(7)\n",
      "memory usage: 68.5+ MB\n",
      "None\n"
     ]
    }
   ],
   "source": [
    "from processing_emisiones import process_emisiones\n",
    "import pandas as pd\n",
    "import numpy as np \n",
    "import seaborn as sns\n",
    "import matplotlib.pyplot as plt\n",
    "import plotly.express as px\n",
    "import plotly.graph_objects as go\n",
    "from sklearn.cluster import KMeans\n",
    "from sklearn.preprocessing import StandardScaler\n",
    "from sklearn.cluster import AgglomerativeClustering\n",
    "from scipy.cluster.hierarchy import linkage, dendrogram\n",
    "import plotly.graph_objects as go\n",
    "import numpy as np\n",
    "from sklearn.model_selection import train_test_split\n",
    "from sklearn.neighbors import KNeighborsClassifier"
   ]
  },
  {
   "cell_type": "code",
   "execution_count": 3,
   "metadata": {},
   "outputs": [
    {
     "name": "stderr",
     "output_type": "stream",
     "text": [
      "/Users/nicocisneros/Desktop/PERSONAL/TEC/SEXTO SEMESTRE/AI AND DA I/Evidencia_comisiones/processing_emisiones.py:9: DtypeWarning: Columns (1) have mixed types. Specify dtype option on import or set low_memory=False.\n",
      "  df_emision= pd.read_csv(sio_file_emision, encoding = 'utf8', sep = ',', on_bad_lines='warn')\n"
     ]
    },
    {
     "name": "stdout",
     "output_type": "stream",
     "text": [
      "<class 'pandas.core.frame.DataFrame'>\n",
      "RangeIndex: 816498 entries, 0 to 816497\n",
      "Data columns (total 11 columns):\n",
      " #   Column                  Non-Null Count   Dtype \n",
      "---  ------                  --------------   ----- \n",
      " 0   EDAD                    816498 non-null  object\n",
      " 1   COBERTURA               816498 non-null  object\n",
      " 2   PLAN DE LA POLIZA       816498 non-null  object\n",
      " 3   MODALIDAD DE LA POLIZA  816498 non-null  object\n",
      " 4   MONEDA                  816498 non-null  object\n",
      " 5   ENTIDAD                 816498 non-null  object\n",
      " 6   SEXO                    816498 non-null  object\n",
      " 7   FORMA DE VENTA          816498 non-null  object\n",
      " 8   NUMERO DE ASEGURADOS    816498 non-null  object\n",
      " 9   PRIMA EMITIDA           816498 non-null  object\n",
      " 10  SUMA ASEGURADA          816498 non-null  object\n",
      "dtypes: object(11)\n",
      "memory usage: 68.5+ MB\n",
      "None\n",
      "EDAD                      0\n",
      "COBERTURA                 0\n",
      "PLAN DE LA POLIZA         0\n",
      "MODALIDAD DE LA POLIZA    0\n",
      "MONEDA                    0\n",
      "ENTIDAD                   0\n",
      "SEXO                      0\n",
      "FORMA DE VENTA            0\n",
      "NUMERO DE ASEGURADOS      0\n",
      "PRIMA EMITIDA             0\n",
      "SUMA ASEGURADA            0\n",
      "dtype: int64\n",
      "EDAD\n",
      "<class 'pandas.core.frame.DataFrame'>\n",
      "RangeIndex: 816498 entries, 0 to 816497\n",
      "Data columns (total 11 columns):\n",
      " #   Column                  Non-Null Count   Dtype \n",
      "---  ------                  --------------   ----- \n",
      " 0   EDAD                    816498 non-null  int64 \n",
      " 1   COBERTURA               816498 non-null  object\n",
      " 2   PLAN DE LA POLIZA       816498 non-null  object\n",
      " 3   MODALIDAD DE LA POLIZA  816498 non-null  object\n",
      " 4   MONEDA                  816498 non-null  object\n",
      " 5   ENTIDAD                 816498 non-null  object\n",
      " 6   SEXO                    816498 non-null  object\n",
      " 7   FORMA DE VENTA          816498 non-null  object\n",
      " 8   NUMERO DE ASEGURADOS    816498 non-null  int64 \n",
      " 9   PRIMA EMITIDA           816498 non-null  int64 \n",
      " 10  SUMA ASEGURADA          816498 non-null  int64 \n",
      "dtypes: int64(4), object(7)\n",
      "memory usage: 68.5+ MB\n",
      "None\n",
      "Index(['EDAD', 'COBERTURA', 'PLAN DE LA POLIZA', 'MODALIDAD DE LA POLIZA',\n",
      "       'MONEDA', 'ENTIDAD ', 'SEXO', 'FORMA DE VENTA', 'NUMERO DE ASEGURADOS',\n",
      "       'PRIMA EMITIDA', 'SUMA ASEGURADA'],\n",
      "      dtype='object')\n"
     ]
    }
   ],
   "source": [
    "df = process_emisiones()"
   ]
  },
  {
   "cell_type": "code",
   "execution_count": null,
   "metadata": {},
   "outputs": [],
   "source": [
    "cols = ['NUMERO DE ASEGURADOS', 'PRIMA EMITIDA', 'SUMA ASEGURADA', 'EDAD']"
   ]
  },
  {
   "cell_type": "code",
   "execution_count": 11,
   "metadata": {},
   "outputs": [
    {
     "name": "stdout",
     "output_type": "stream",
     "text": [
      "   EDAD                  COBERTURA PLAN DE LA POLIZA MODALIDAD DE LA POLIZA  \\\n",
      "0    22  Exención de pago de prima         Vitalicio            Tradicional   \n",
      "1    47              Fallecimiento         Vitalicio            Tradicional   \n",
      "2    34              Fallecimiento       Dotal Mixto            Tradicional   \n",
      "3    29              Fallecimiento          Temporal            Tradicional   \n",
      "4    54              Sobrevivencia       Dotal Mixto            Tradicional   \n",
      "\n",
      "       MONEDA   ENTIDAD                          FORMA DE VENTA  \\\n",
      "0  Extranjera  Chihuahua                 Agentes Persona Física   \n",
      "1  Extranjera   Coahuila  Fuerza de Venta Interna o Casa Matriz   \n",
      "2    Indizada  Querétaro                 Agentes Persona Física   \n",
      "3    Nacional    Hidalgo                           Telemercadeo   \n",
      "4  Extranjera     Mexico                    Otra Forma de Venta   \n",
      "\n",
      "   NUMERO DE ASEGURADOS  PRIMA EMITIDA  SUMA ASEGURADA  SEXO_Femenino  \\\n",
      "0                     1            128               0              1   \n",
      "1                     6         146947         9432862              0   \n",
      "2                    64        1206118        36899162              1   \n",
      "3                   102          38842        13457299              1   \n",
      "4                    10          15704         1148046              0   \n",
      "\n",
      "   SEXO_Masculino  SEXO_No disponible  \n",
      "0               0                   0  \n",
      "1               1                   0  \n",
      "2               0                   0  \n",
      "3               0                   0  \n",
      "4               1                   0  \n"
     ]
    }
   ],
   "source": [
    "df = pd.get_dummies(df, columns=['SEXO'])\n",
    "print(df.head())"
   ]
  },
  {
   "cell_type": "code",
   "execution_count": 12,
   "metadata": {},
   "outputs": [
    {
     "data": {
      "text/plain": [
       "Index(['EDAD', 'COBERTURA', 'PLAN DE LA POLIZA', 'MODALIDAD DE LA POLIZA',\n",
       "       'MONEDA', 'ENTIDAD ', 'FORMA DE VENTA', 'NUMERO DE ASEGURADOS',\n",
       "       'PRIMA EMITIDA', 'SUMA ASEGURADA', 'SEXO_Femenino', 'SEXO_Masculino',\n",
       "       'SEXO_No disponible'],\n",
       "      dtype='object')"
      ]
     },
     "execution_count": 12,
     "metadata": {},
     "output_type": "execute_result"
    }
   ],
   "source": [
    "df.columns\n"
   ]
  },
  {
   "cell_type": "code",
   "execution_count": 6,
   "metadata": {},
   "outputs": [
    {
     "data": {
      "text/html": [
       "<div>\n",
       "<style scoped>\n",
       "    .dataframe tbody tr th:only-of-type {\n",
       "        vertical-align: middle;\n",
       "    }\n",
       "\n",
       "    .dataframe tbody tr th {\n",
       "        vertical-align: top;\n",
       "    }\n",
       "\n",
       "    .dataframe thead th {\n",
       "        text-align: right;\n",
       "    }\n",
       "</style>\n",
       "<table border=\"1\" class=\"dataframe\">\n",
       "  <thead>\n",
       "    <tr style=\"text-align: right;\">\n",
       "      <th></th>\n",
       "      <th>EDAD</th>\n",
       "      <th>NUMERO DE ASEGURADOS</th>\n",
       "      <th>PRIMA EMITIDA</th>\n",
       "      <th>SUMA ASEGURADA</th>\n",
       "    </tr>\n",
       "  </thead>\n",
       "  <tbody>\n",
       "    <tr>\n",
       "      <th>count</th>\n",
       "      <td>816498.00</td>\n",
       "      <td>816498.00</td>\n",
       "      <td>816498.00</td>\n",
       "      <td>816498.00</td>\n",
       "    </tr>\n",
       "    <tr>\n",
       "      <th>mean</th>\n",
       "      <td>46.01</td>\n",
       "      <td>54.96</td>\n",
       "      <td>220171.79</td>\n",
       "      <td>18867467.12</td>\n",
       "    </tr>\n",
       "    <tr>\n",
       "      <th>std</th>\n",
       "      <td>16.77</td>\n",
       "      <td>465.17</td>\n",
       "      <td>3491881.22</td>\n",
       "      <td>116478147.56</td>\n",
       "    </tr>\n",
       "    <tr>\n",
       "      <th>min</th>\n",
       "      <td>-1.00</td>\n",
       "      <td>1.00</td>\n",
       "      <td>-14894612.00</td>\n",
       "      <td>0.00</td>\n",
       "    </tr>\n",
       "    <tr>\n",
       "      <th>25%</th>\n",
       "      <td>34.00</td>\n",
       "      <td>1.00</td>\n",
       "      <td>452.00</td>\n",
       "      <td>42123.00</td>\n",
       "    </tr>\n",
       "    <tr>\n",
       "      <th>50%</th>\n",
       "      <td>46.00</td>\n",
       "      <td>4.00</td>\n",
       "      <td>4928.50</td>\n",
       "      <td>1014291.00</td>\n",
       "    </tr>\n",
       "    <tr>\n",
       "      <th>75%</th>\n",
       "      <td>58.00</td>\n",
       "      <td>21.00</td>\n",
       "      <td>42486.00</td>\n",
       "      <td>6978519.25</td>\n",
       "    </tr>\n",
       "    <tr>\n",
       "      <th>max</th>\n",
       "      <td>121.00</td>\n",
       "      <td>83202.00</td>\n",
       "      <td>2448270922.00</td>\n",
       "      <td>66326216079.00</td>\n",
       "    </tr>\n",
       "  </tbody>\n",
       "</table>\n",
       "</div>"
      ],
      "text/plain": [
       "           EDAD  NUMERO DE ASEGURADOS  PRIMA EMITIDA  SUMA ASEGURADA\n",
       "count 816498.00             816498.00      816498.00       816498.00\n",
       "mean      46.01                 54.96      220171.79     18867467.12\n",
       "std       16.77                465.17     3491881.22    116478147.56\n",
       "min       -1.00                  1.00   -14894612.00            0.00\n",
       "25%       34.00                  1.00         452.00        42123.00\n",
       "50%       46.00                  4.00        4928.50      1014291.00\n",
       "75%       58.00                 21.00       42486.00      6978519.25\n",
       "max      121.00              83202.00  2448270922.00  66326216079.00"
      ]
     },
     "execution_count": 6,
     "metadata": {},
     "output_type": "execute_result"
    }
   ],
   "source": [
    "df.describe()"
   ]
  },
  {
   "cell_type": "code",
   "execution_count": 7,
   "metadata": {},
   "outputs": [
    {
     "name": "stdout",
     "output_type": "stream",
     "text": [
      "            EDAD      COBERTURA PLAN DE LA POLIZA MODALIDAD DE LA POLIZA  \\\n",
      "count  816498.00         816498            816498                 816498   \n",
      "unique       NaN             15                 7                     11   \n",
      "top          NaN  Fallecimiento          Temporal            Tradicional   \n",
      "freq         NaN         213903            400891                 464322   \n",
      "mean       46.01            NaN               NaN                    NaN   \n",
      "std        16.77            NaN               NaN                    NaN   \n",
      "min        -1.00            NaN               NaN                    NaN   \n",
      "25%        34.00            NaN               NaN                    NaN   \n",
      "50%        46.00            NaN               NaN                    NaN   \n",
      "75%        58.00            NaN               NaN                    NaN   \n",
      "max       121.00            NaN               NaN                    NaN   \n",
      "\n",
      "          MONEDA          ENTIDAD        SEXO          FORMA DE VENTA  \\\n",
      "count     816498            816498     816498                  816498   \n",
      "unique         4                36          3                      13   \n",
      "top     Nacional  Ciudad de México  Masculino  Agentes Persona Física   \n",
      "freq      471978             61797     424062                  346872   \n",
      "mean         NaN               NaN        NaN                     NaN   \n",
      "std          NaN               NaN        NaN                     NaN   \n",
      "min          NaN               NaN        NaN                     NaN   \n",
      "25%          NaN               NaN        NaN                     NaN   \n",
      "50%          NaN               NaN        NaN                     NaN   \n",
      "75%          NaN               NaN        NaN                     NaN   \n",
      "max          NaN               NaN        NaN                     NaN   \n",
      "\n",
      "        NUMERO DE ASEGURADOS  PRIMA EMITIDA  SUMA ASEGURADA  \n",
      "count              816498.00      816498.00       816498.00  \n",
      "unique                   NaN            NaN             NaN  \n",
      "top                      NaN            NaN             NaN  \n",
      "freq                     NaN            NaN             NaN  \n",
      "mean                   54.96      220171.79     18867467.12  \n",
      "std                   465.17     3491881.22    116478147.56  \n",
      "min                     1.00   -14894612.00            0.00  \n",
      "25%                     1.00         452.00        42123.00  \n",
      "50%                     4.00        4928.50      1014291.00  \n",
      "75%                    21.00       42486.00      6978519.25  \n",
      "max                 83202.00  2448270922.00  66326216079.00  \n",
      "Index(['EDAD', 'COBERTURA', 'PLAN DE LA POLIZA', 'MODALIDAD DE LA POLIZA',\n",
      "       'MONEDA', 'ENTIDAD ', 'SEXO', 'FORMA DE VENTA', 'NUMERO DE ASEGURADOS',\n",
      "       'PRIMA EMITIDA', 'SUMA ASEGURADA'],\n",
      "      dtype='object')\n"
     ]
    }
   ],
   "source": [
    "stats = df.describe(include='all')\n",
    "print(stats)\n",
    "print(df.columns)"
   ]
  },
  {
   "cell_type": "code",
   "execution_count": 8,
   "metadata": {},
   "outputs": [
    {
     "name": "stdout",
     "output_type": "stream",
     "text": [
      "Estadística descriptiva para la columna \"NUMERO DE ASEGURADOS\":\n",
      "count   816498.00\n",
      "mean        54.96\n",
      "std        465.17\n",
      "min          1.00\n",
      "25%          1.00\n",
      "50%          4.00\n",
      "75%         21.00\n",
      "max      83202.00\n",
      "Name: NUMERO DE ASEGURADOS, dtype: float64\n",
      "\n",
      "\n",
      "Estadística descriptiva para la columna \"PRIMA EMITIDA\":\n",
      "count       816498.00\n",
      "mean        220171.79\n",
      "std        3491881.22\n",
      "min      -14894612.00\n",
      "25%            452.00\n",
      "50%           4928.50\n",
      "75%          42486.00\n",
      "max     2448270922.00\n",
      "Name: PRIMA EMITIDA, dtype: float64\n",
      "\n",
      "\n",
      "Estadística descriptiva para la columna \"SUMA ASEGURADA\":\n",
      "count        816498.00\n",
      "mean       18867467.12\n",
      "std       116478147.56\n",
      "min               0.00\n",
      "25%           42123.00\n",
      "50%         1014291.00\n",
      "75%         6978519.25\n",
      "max     66326216079.00\n",
      "Name: SUMA ASEGURADA, dtype: float64\n",
      "\n",
      "\n",
      "Estadística descriptiva para la columna \"EDAD\":\n",
      "count   816498.00\n",
      "mean        46.01\n",
      "std         16.77\n",
      "min         -1.00\n",
      "25%         34.00\n",
      "50%         46.00\n",
      "75%         58.00\n",
      "max        121.00\n",
      "Name: EDAD, dtype: float64\n",
      "\n",
      "\n"
     ]
    }
   ],
   "source": [
    "for col in cols:\n",
    "    print(f'Estadística descriptiva para la columna \"{col}\":')\n",
    "    print(df[col].describe())\n",
    "    print('\\n')"
   ]
  },
  {
   "cell_type": "code",
   "execution_count": null,
   "metadata": {},
   "outputs": [],
   "source": [
    "X = df[cols]\n",
    "\n",
    "kmeans = KMeans(n_clusters=3, random_state=0)\n",
    "kmeans.fit(X)\n",
    "\n",
    "df['cluster'] = kmeans.labels_\n",
    "for col in cols:\n",
    "    plt.figure(figsize=(6,6))\n",
    "    for i in range(3): \n",
    "        cluster_data = df[df['cluster'] == i]\n",
    "        plt.scatter(cluster_data[col], cluster_data['SEXO_Masculino'], label=f'Cluster {i}')\n",
    "    plt.xlabel(col)\n",
    "    plt.ylabel('SEXO_Masculino')\n",
    "    plt.legend()\n",
    "    plt.show()"
   ]
  },
  {
   "cell_type": "code",
   "execution_count": null,
   "metadata": {},
   "outputs": [],
   "source": [
    "for col in cols:\n",
    "    plt.figure(figsize=(6,6))\n",
    "    for i in range(3): \n",
    "        cluster_data = df[df['cluster'] == i]\n",
    "        plt.scatter(cluster_data[col], cluster_data['SEXO_Femenino'], label=f'Cluster {i}')\n",
    "    plt.xlabel(col)\n",
    "    plt.ylabel('SEXO_Femenino')\n",
    "    plt.legend()\n",
    "    plt.show()"
   ]
  },
  {
   "cell_type": "code",
   "execution_count": 10,
   "metadata": {},
   "outputs": [
    {
     "data": {
      "image/png": "[encoded data removed]",
      "text/plain": [
       "<Figure size 720x576 with 1 Axes>"
      ]
     },
     "metadata": {
      "needs_background": "light"
     },
     "output_type": "display_data"
    },
    {
     "data": {
      "image/png": "[encoded data removed]",
      "text/plain": [
       "<Figure size 720x576 with 1 Axes>"
      ]
     },
     "metadata": {
      "needs_background": "light"
     },
     "output_type": "display_data"
    },
    {
     "data": {
      "image/png": "[encoded data removed]",
      "text/plain": [
       "<Figure size 720x576 with 1 Axes>"
      ]
     },
     "metadata": {
      "needs_background": "light"
     },
     "output_type": "display_data"
    },
    {
     "data": {
      "image/png": "[encoded data removed]",
      "text/plain": [
       "<Figure size 720x576 with 1 Axes>"
      ]
     },
     "metadata": {
      "needs_background": "light"
     },
     "output_type": "display_data"
    }
   ],
   "source": [
    "for col in cols:\n",
    "    fig, ax = plt.subplots(figsize=(10, 8))\n",
    "    sns.boxplot(x=df[col], ax=ax)\n",
    "    ax.set_title(col)\n",
    "    plt.show()"
   ]
  }
 ],
 "metadata": {
  "kernelspec": {
   "display_name": "Python 3",
   "language": "python",
   "name": "python3"
  },
  "language_info": {
   "codemirror_mode": {
    "name": "ipython",
    "version": 3
   },
   "file_extension": ".py",
   "mimetype": "text/x-python",
   "name": "python",
   "nbconvert_exporter": "python",
   "pygments_lexer": "ipython3",
   "version": "3.10.1"
  },
  "orig_nbformat": 4
 },
 "nbformat": 4,
 "nbformat_minor": 2
}
