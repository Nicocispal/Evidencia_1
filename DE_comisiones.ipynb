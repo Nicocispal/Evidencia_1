{
 "cells": [
  {
   "cell_type": "code",
   "execution_count": 2,
   "metadata": {},
   "outputs": [],
   "source": [
    "import pandas as pd\n",
    "import numpy as np\n",
    "import seaborn as sns\n",
    "from matplotlib import pyplot as plt\n",
    "import matplotlib.colors as mpl_colors\n",
    "import sys\n",
    "from processing_comisiones import *\n",
    "\n",
    "#paqueteria para ML\n",
    "from time import time\n",
    "from sklearn.model_selection import train_test_split\n",
    "from sklearn.preprocessing import StandardScaler\n",
    "from sklearn.cluster import KMeans\n",
    "from sklearn.decomposition import PCA\n",
    "\n",
    "from yellowbrick.cluster import KElbowVisualizer"
   ]
  },
  {
   "cell_type": "code",
   "execution_count": 3,
   "metadata": {},
   "outputs": [
    {
     "name": "stdout",
     "output_type": "stream",
     "text": [
      "<class 'pandas.core.frame.DataFrame'>\n",
      "RangeIndex: 211493 entries, 0 to 211492\n",
      "Data columns (total 15 columns):\n",
      " #   Column                   Non-Null Count   Dtype \n",
      "---  ------                   --------------   ----- \n",
      " 0   EDAD                     211493 non-null  int64 \n",
      " 1   PLAN DE LA POLIZA        211493 non-null  object\n",
      " 2   MODALIDAD DE LA POLIZA   211493 non-null  object\n",
      " 3   MONEDA                   211493 non-null  object\n",
      " 4   ENTIDAD                  211493 non-null  object\n",
      " 5   SEXO                     211493 non-null  object\n",
      " 6   FORMA DE VENTA           211493 non-null  object\n",
      " 7   TIPO DIVIDENDO           211493 non-null  object\n",
      " 8   NUMERO DE ASEGURADOS     211493 non-null  int64 \n",
      " 9   PRIMA CEDIDA             211493 non-null  int64 \n",
      " 10  COMISIONES DIRECTAS      211493 non-null  int64 \n",
      " 11  FONDO DE INVERSIÓN       211493 non-null  int64 \n",
      " 12  FONDO DE ADMINISTRACION  211493 non-null  int64 \n",
      " 13  MONTO DE DIVIDENDOS      211493 non-null  int64 \n",
      " 14  MONTO DE RESCATE         211493 non-null  int64 \n",
      "dtypes: int64(8), object(7)\n",
      "memory usage: 24.2+ MB\n",
      "None\n",
      "{'EDAD': array([  0,   1,   2,   3,   4,   5,   6,   7,   8,   9,  10,  11,  12,\n",
      "        13,  14,  15,  16,  17,  18,  19,  20,  21,  22,  23,  24,  25,\n",
      "        26,  27,  28,  29,  30,  31,  32,  33,  34,  35,  36,  37,  38,\n",
      "        39,  40,  41,  42,  43,  44,  45,  46,  47,  48,  49,  50,  51,\n",
      "        52,  53,  54,  55,  56,  57,  58,  59,  60,  61,  62,  63,  64,\n",
      "        65,  66,  67,  68,  69,  70,  71,  72,  73,  74,  75,  76,  77,\n",
      "        78,  79,  80,  81,  82,  83,  84,  85,  86,  87,  88,  89,  90,\n",
      "        91,  92,  93,  94,  95,  96,  97,  98,  99, 100, 101, 102, 103,\n",
      "       104, 105, 106, 107, 108, 109, 110, 111, 112, 113, 114, 115, 116,\n",
      "       117, 118, 119, 120, 121]), 'PLAN DE LA POLIZA': array(['Temporal', 'Dotal Mixto', 'Vitalicio', 'Rentas', 'Dotal Puro',\n",
      "       'Otros'], dtype=object), 'MODALIDAD DE LA POLIZA': array(['Tradicional', 'Deudores', 'Flexible sin tasa garantizada',\n",
      "       'Educativo', 'Flexible con tasa garantizada', 'Microseguro',\n",
      "       'Producto básico estandarizado', 'Mancomunado', 'Retiro', 'Otros'],\n",
      "      dtype=object), 'MONEDA': array(['Nacional', 'Extranjera', 'Indizada'], dtype=object), 'ENTIDAD ': array(['Morelos', 'Veracruz', 'Chihuahua', 'Ciudad de México',\n",
      "       'Guanajuato', 'Tamaulipas', 'Mexico', 'Jalisco', 'Michoacán',\n",
      "       'Nuevo Leon', 'Quintana Roo', 'San Luis Potosí', 'Tabasco',\n",
      "       'Aguascalientes', 'Coahuila', 'Durango', 'Puebla', 'Querétaro',\n",
      "       'Sinaloa', 'Sonora', 'Yucatán', 'Hidalgo', 'Baja California',\n",
      "       'Campeche', 'Colima', 'Chiapas', 'Nayarit', 'Oaxaca',\n",
      "       'Baja California Sur', 'Guerrero', 'Tlaxcala', 'Zacatecas',\n",
      "       'Sin domicilio fijo', 'En el Extranjero', 'No aplica'],\n",
      "      dtype=object), 'SEXO': array(['Masculino', 'Femenino'], dtype=object), 'FORMA DE VENTA': array(['Agentes Persona Física', 'Agentes Persona Moral',\n",
      "       'Descuento por Nómina', 'Otra Forma de Venta',\n",
      "       'Red de Sucursales Bancarias', 'Internet', 'Telemercadeo',\n",
      "       'Empresas Comerciales', 'Fuerza de Venta Interna o Casa Matriz',\n",
      "       'Otros Canales de Venta Masiva', 'Módulos de Venta',\n",
      "       'Concesionarios Automotrices'], dtype=object), 'TIPO DIVIDENDO': array(['Sin dividendo', 'Experiencia Siniestralidad Propia',\n",
      "       'Experiencia Tasa Financiera', 'Experiencia Siniestralidad Global'],\n",
      "      dtype=object), 'NUMERO DE ASEGURADOS': array([   1,    2,    3, ..., 3563, 1810, 2214]), 'PRIMA CEDIDA': array([    0,   105,   270, ..., 93608, 58755, 38667]), 'COMISIONES DIRECTAS': array([   275,    192,     51, ..., 416823, 347507, 421458]), 'FONDO DE INVERSIÓN': array([      0,     861,      47, ...,    5502, 1083271,  179485]), 'FONDO DE ADMINISTRACION': array([    0,    20,    44, ..., 38731, 14570,  3814]), 'MONTO DE DIVIDENDOS': array([ 0,  2, 67, ..., -7, -5, -3]), 'MONTO DE RESCATE': array([      0,   31367,   14185, ...,     594, 3188933,  114698])}\n",
      "EDAD                       0\n",
      "PLAN DE LA POLIZA          0\n",
      "MODALIDAD DE LA POLIZA     0\n",
      "MONEDA                     0\n",
      "ENTIDAD                    0\n",
      "SEXO                       0\n",
      "FORMA DE VENTA             0\n",
      "TIPO DIVIDENDO             0\n",
      "NUMERO DE ASEGURADOS       0\n",
      "PRIMA CEDIDA               0\n",
      "COMISIONES DIRECTAS        0\n",
      "FONDO DE INVERSIÓN         0\n",
      "FONDO DE ADMINISTRACION    0\n",
      "MONTO DE DIVIDENDOS        0\n",
      "MONTO DE RESCATE           0\n",
      "dtype: int64\n",
      "Index(['EDAD', 'PLAN DE LA POLIZA', 'MODALIDAD DE LA POLIZA', 'MONEDA',\n",
      "       'ENTIDAD ', 'SEXO', 'FORMA DE VENTA', 'TIPO DIVIDENDO',\n",
      "       'NUMERO DE ASEGURADOS', 'PRIMA CEDIDA', 'COMISIONES DIRECTAS',\n",
      "       'FONDO DE INVERSIÓN', 'FONDO DE ADMINISTRACION', 'MONTO DE DIVIDENDOS',\n",
      "       'MONTO DE RESCATE'],\n",
      "      dtype='object')\n",
      "There are 7 categorical variables\n",
      "The categorical variables are: ['PLAN DE LA POLIZA', 'MODALIDAD DE LA POLIZA', 'MONEDA', 'ENTIDAD ', 'SEXO', 'FORMA DE VENTA', 'TIPO DIVIDENDO']\n"
     ]
    }
   ],
   "source": [
    "df = process_comissions_df()"
   ]
  },
  {
   "cell_type": "code",
   "execution_count": 4,
   "metadata": {},
   "outputs": [
    {
     "data": {
      "text/html": [
       "<div>\n",
       "<style scoped>\n",
       "    .dataframe tbody tr th:only-of-type {\n",
       "        vertical-align: middle;\n",
       "    }\n",
       "\n",
       "    .dataframe tbody tr th {\n",
       "        vertical-align: top;\n",
       "    }\n",
       "\n",
       "    .dataframe thead th {\n",
       "        text-align: right;\n",
       "    }\n",
       "</style>\n",
       "<table border=\"1\" class=\"dataframe\">\n",
       "  <thead>\n",
       "    <tr style=\"text-align: right;\">\n",
       "      <th></th>\n",
       "      <th>EDAD</th>\n",
       "      <th>PLAN DE LA POLIZA</th>\n",
       "      <th>MODALIDAD DE LA POLIZA</th>\n",
       "      <th>MONEDA</th>\n",
       "      <th>ENTIDAD</th>\n",
       "      <th>SEXO</th>\n",
       "      <th>FORMA DE VENTA</th>\n",
       "      <th>TIPO DIVIDENDO</th>\n",
       "      <th>NUMERO DE ASEGURADOS</th>\n",
       "      <th>PRIMA CEDIDA</th>\n",
       "      <th>COMISIONES DIRECTAS</th>\n",
       "      <th>FONDO DE INVERSIÓN</th>\n",
       "      <th>FONDO DE ADMINISTRACION</th>\n",
       "      <th>MONTO DE DIVIDENDOS</th>\n",
       "      <th>MONTO DE RESCATE</th>\n",
       "    </tr>\n",
       "  </thead>\n",
       "  <tbody>\n",
       "    <tr>\n",
       "      <th>0</th>\n",
       "      <td>0</td>\n",
       "      <td>Temporal</td>\n",
       "      <td>Tradicional</td>\n",
       "      <td>Nacional</td>\n",
       "      <td>Morelos</td>\n",
       "      <td>Masculino</td>\n",
       "      <td>Agentes Persona Física</td>\n",
       "      <td>Sin dividendo</td>\n",
       "      <td>1</td>\n",
       "      <td>0</td>\n",
       "      <td>275</td>\n",
       "      <td>0</td>\n",
       "      <td>0</td>\n",
       "      <td>0</td>\n",
       "      <td>0</td>\n",
       "    </tr>\n",
       "    <tr>\n",
       "      <th>1</th>\n",
       "      <td>0</td>\n",
       "      <td>Temporal</td>\n",
       "      <td>Tradicional</td>\n",
       "      <td>Nacional</td>\n",
       "      <td>Veracruz</td>\n",
       "      <td>Femenino</td>\n",
       "      <td>Agentes Persona Física</td>\n",
       "      <td>Sin dividendo</td>\n",
       "      <td>1</td>\n",
       "      <td>0</td>\n",
       "      <td>192</td>\n",
       "      <td>0</td>\n",
       "      <td>0</td>\n",
       "      <td>0</td>\n",
       "      <td>0</td>\n",
       "    </tr>\n",
       "    <tr>\n",
       "      <th>2</th>\n",
       "      <td>0</td>\n",
       "      <td>Temporal</td>\n",
       "      <td>Tradicional</td>\n",
       "      <td>Nacional</td>\n",
       "      <td>Veracruz</td>\n",
       "      <td>Masculino</td>\n",
       "      <td>Agentes Persona Física</td>\n",
       "      <td>Sin dividendo</td>\n",
       "      <td>1</td>\n",
       "      <td>0</td>\n",
       "      <td>192</td>\n",
       "      <td>0</td>\n",
       "      <td>0</td>\n",
       "      <td>0</td>\n",
       "      <td>0</td>\n",
       "    </tr>\n",
       "    <tr>\n",
       "      <th>3</th>\n",
       "      <td>0</td>\n",
       "      <td>Temporal</td>\n",
       "      <td>Deudores</td>\n",
       "      <td>Nacional</td>\n",
       "      <td>Chihuahua</td>\n",
       "      <td>Femenino</td>\n",
       "      <td>Agentes Persona Física</td>\n",
       "      <td>Sin dividendo</td>\n",
       "      <td>2</td>\n",
       "      <td>105</td>\n",
       "      <td>51</td>\n",
       "      <td>0</td>\n",
       "      <td>0</td>\n",
       "      <td>0</td>\n",
       "      <td>0</td>\n",
       "    </tr>\n",
       "    <tr>\n",
       "      <th>4</th>\n",
       "      <td>0</td>\n",
       "      <td>Temporal</td>\n",
       "      <td>Deudores</td>\n",
       "      <td>Nacional</td>\n",
       "      <td>Chihuahua</td>\n",
       "      <td>Femenino</td>\n",
       "      <td>Agentes Persona Moral</td>\n",
       "      <td>Sin dividendo</td>\n",
       "      <td>3</td>\n",
       "      <td>270</td>\n",
       "      <td>131</td>\n",
       "      <td>0</td>\n",
       "      <td>0</td>\n",
       "      <td>0</td>\n",
       "      <td>0</td>\n",
       "    </tr>\n",
       "    <tr>\n",
       "      <th>...</th>\n",
       "      <td>...</td>\n",
       "      <td>...</td>\n",
       "      <td>...</td>\n",
       "      <td>...</td>\n",
       "      <td>...</td>\n",
       "      <td>...</td>\n",
       "      <td>...</td>\n",
       "      <td>...</td>\n",
       "      <td>...</td>\n",
       "      <td>...</td>\n",
       "      <td>...</td>\n",
       "      <td>...</td>\n",
       "      <td>...</td>\n",
       "      <td>...</td>\n",
       "      <td>...</td>\n",
       "    </tr>\n",
       "    <tr>\n",
       "      <th>211488</th>\n",
       "      <td>121</td>\n",
       "      <td>Temporal</td>\n",
       "      <td>Tradicional</td>\n",
       "      <td>Nacional</td>\n",
       "      <td>Nuevo Leon</td>\n",
       "      <td>Masculino</td>\n",
       "      <td>Red de Sucursales Bancarias</td>\n",
       "      <td>Sin dividendo</td>\n",
       "      <td>1</td>\n",
       "      <td>0</td>\n",
       "      <td>1098</td>\n",
       "      <td>0</td>\n",
       "      <td>0</td>\n",
       "      <td>0</td>\n",
       "      <td>0</td>\n",
       "    </tr>\n",
       "    <tr>\n",
       "      <th>211489</th>\n",
       "      <td>121</td>\n",
       "      <td>Temporal</td>\n",
       "      <td>Tradicional</td>\n",
       "      <td>Nacional</td>\n",
       "      <td>Querétaro</td>\n",
       "      <td>Femenino</td>\n",
       "      <td>Red de Sucursales Bancarias</td>\n",
       "      <td>Sin dividendo</td>\n",
       "      <td>1</td>\n",
       "      <td>0</td>\n",
       "      <td>1271</td>\n",
       "      <td>0</td>\n",
       "      <td>0</td>\n",
       "      <td>0</td>\n",
       "      <td>0</td>\n",
       "    </tr>\n",
       "    <tr>\n",
       "      <th>211490</th>\n",
       "      <td>121</td>\n",
       "      <td>Temporal</td>\n",
       "      <td>Tradicional</td>\n",
       "      <td>Nacional</td>\n",
       "      <td>Tamaulipas</td>\n",
       "      <td>Femenino</td>\n",
       "      <td>Red de Sucursales Bancarias</td>\n",
       "      <td>Sin dividendo</td>\n",
       "      <td>2</td>\n",
       "      <td>1473</td>\n",
       "      <td>3236</td>\n",
       "      <td>0</td>\n",
       "      <td>0</td>\n",
       "      <td>0</td>\n",
       "      <td>0</td>\n",
       "    </tr>\n",
       "    <tr>\n",
       "      <th>211491</th>\n",
       "      <td>121</td>\n",
       "      <td>Temporal</td>\n",
       "      <td>Tradicional</td>\n",
       "      <td>Nacional</td>\n",
       "      <td>Tamaulipas</td>\n",
       "      <td>Masculino</td>\n",
       "      <td>Red de Sucursales Bancarias</td>\n",
       "      <td>Sin dividendo</td>\n",
       "      <td>1</td>\n",
       "      <td>0</td>\n",
       "      <td>1618</td>\n",
       "      <td>0</td>\n",
       "      <td>0</td>\n",
       "      <td>0</td>\n",
       "      <td>0</td>\n",
       "    </tr>\n",
       "    <tr>\n",
       "      <th>211492</th>\n",
       "      <td>121</td>\n",
       "      <td>Temporal</td>\n",
       "      <td>Tradicional</td>\n",
       "      <td>Nacional</td>\n",
       "      <td>Veracruz</td>\n",
       "      <td>Masculino</td>\n",
       "      <td>Red de Sucursales Bancarias</td>\n",
       "      <td>Sin dividendo</td>\n",
       "      <td>2</td>\n",
       "      <td>0</td>\n",
       "      <td>3468</td>\n",
       "      <td>0</td>\n",
       "      <td>0</td>\n",
       "      <td>0</td>\n",
       "      <td>0</td>\n",
       "    </tr>\n",
       "  </tbody>\n",
       "</table>\n",
       "<p>211493 rows × 15 columns</p>\n",
       "</div>"
      ],
      "text/plain": [
       "        EDAD PLAN DE LA POLIZA MODALIDAD DE LA POLIZA    MONEDA    ENTIDAD   \\\n",
       "0          0          Temporal            Tradicional  Nacional     Morelos   \n",
       "1          0          Temporal            Tradicional  Nacional    Veracruz   \n",
       "2          0          Temporal            Tradicional  Nacional    Veracruz   \n",
       "3          0          Temporal               Deudores  Nacional   Chihuahua   \n",
       "4          0          Temporal               Deudores  Nacional   Chihuahua   \n",
       "...      ...               ...                    ...       ...         ...   \n",
       "211488   121          Temporal            Tradicional  Nacional  Nuevo Leon   \n",
       "211489   121          Temporal            Tradicional  Nacional   Querétaro   \n",
       "211490   121          Temporal            Tradicional  Nacional  Tamaulipas   \n",
       "211491   121          Temporal            Tradicional  Nacional  Tamaulipas   \n",
       "211492   121          Temporal            Tradicional  Nacional    Veracruz   \n",
       "\n",
       "             SEXO               FORMA DE VENTA TIPO DIVIDENDO  \\\n",
       "0       Masculino       Agentes Persona Física  Sin dividendo   \n",
       "1        Femenino       Agentes Persona Física  Sin dividendo   \n",
       "2       Masculino       Agentes Persona Física  Sin dividendo   \n",
       "3        Femenino       Agentes Persona Física  Sin dividendo   \n",
       "4        Femenino        Agentes Persona Moral  Sin dividendo   \n",
       "...           ...                          ...            ...   \n",
       "211488  Masculino  Red de Sucursales Bancarias  Sin dividendo   \n",
       "211489   Femenino  Red de Sucursales Bancarias  Sin dividendo   \n",
       "211490   Femenino  Red de Sucursales Bancarias  Sin dividendo   \n",
       "211491  Masculino  Red de Sucursales Bancarias  Sin dividendo   \n",
       "211492  Masculino  Red de Sucursales Bancarias  Sin dividendo   \n",
       "\n",
       "        NUMERO DE ASEGURADOS  PRIMA CEDIDA  COMISIONES DIRECTAS  \\\n",
       "0                          1             0                  275   \n",
       "1                          1             0                  192   \n",
       "2                          1             0                  192   \n",
       "3                          2           105                   51   \n",
       "4                          3           270                  131   \n",
       "...                      ...           ...                  ...   \n",
       "211488                     1             0                 1098   \n",
       "211489                     1             0                 1271   \n",
       "211490                     2          1473                 3236   \n",
       "211491                     1             0                 1618   \n",
       "211492                     2             0                 3468   \n",
       "\n",
       "        FONDO DE INVERSIÓN  FONDO DE ADMINISTRACION  MONTO DE DIVIDENDOS  \\\n",
       "0                        0                        0                    0   \n",
       "1                        0                        0                    0   \n",
       "2                        0                        0                    0   \n",
       "3                        0                        0                    0   \n",
       "4                        0                        0                    0   \n",
       "...                    ...                      ...                  ...   \n",
       "211488                   0                        0                    0   \n",
       "211489                   0                        0                    0   \n",
       "211490                   0                        0                    0   \n",
       "211491                   0                        0                    0   \n",
       "211492                   0                        0                    0   \n",
       "\n",
       "        MONTO DE RESCATE  \n",
       "0                      0  \n",
       "1                      0  \n",
       "2                      0  \n",
       "3                      0  \n",
       "4                      0  \n",
       "...                  ...  \n",
       "211488                 0  \n",
       "211489                 0  \n",
       "211490                 0  \n",
       "211491                 0  \n",
       "211492                 0  \n",
       "\n",
       "[211493 rows x 15 columns]"
      ]
     },
     "execution_count": 4,
     "metadata": {},
     "output_type": "execute_result"
    }
   ],
   "source": [
    "df"
   ]
  },
  {
   "cell_type": "code",
   "execution_count": 5,
   "metadata": {},
   "outputs": [],
   "source": [
    "df = df.apply(pd.to_numeric, downcast='integer', errors='ignore')"
   ]
  },
  {
   "cell_type": "code",
   "execution_count": 6,
   "metadata": {},
   "outputs": [
    {
     "name": "stdout",
     "output_type": "stream",
     "text": [
      "<class 'pandas.core.frame.DataFrame'>\n",
      "RangeIndex: 211493 entries, 0 to 211492\n",
      "Data columns (total 15 columns):\n",
      " #   Column                   Non-Null Count   Dtype \n",
      "---  ------                   --------------   ----- \n",
      " 0   EDAD                     211493 non-null  int8  \n",
      " 1   PLAN DE LA POLIZA        211493 non-null  object\n",
      " 2   MODALIDAD DE LA POLIZA   211493 non-null  object\n",
      " 3   MONEDA                   211493 non-null  object\n",
      " 4   ENTIDAD                  211493 non-null  object\n",
      " 5   SEXO                     211493 non-null  object\n",
      " 6   FORMA DE VENTA           211493 non-null  object\n",
      " 7   TIPO DIVIDENDO           211493 non-null  object\n",
      " 8   NUMERO DE ASEGURADOS     211493 non-null  int32 \n",
      " 9   PRIMA CEDIDA             211493 non-null  int32 \n",
      " 10  COMISIONES DIRECTAS      211493 non-null  int32 \n",
      " 11  FONDO DE INVERSIÓN       211493 non-null  int32 \n",
      " 12  FONDO DE ADMINISTRACION  211493 non-null  int32 \n",
      " 13  MONTO DE DIVIDENDOS      211493 non-null  int32 \n",
      " 14  MONTO DE RESCATE         211493 non-null  int32 \n",
      "dtypes: int32(7), int8(1), object(7)\n",
      "memory usage: 17.1+ MB\n"
     ]
    }
   ],
   "source": [
    "df.info()"
   ]
  },
  {
   "cell_type": "code",
   "execution_count": 7,
   "metadata": {},
   "outputs": [],
   "source": [
    "df[['EDAD']] = df[['EDAD']].astype('int32')"
   ]
  },
  {
   "cell_type": "code",
   "execution_count": 8,
   "metadata": {},
   "outputs": [],
   "source": [
    "df['PLAN DE LA POLIZA'], cat_Plan = pd.factorize(df['PLAN DE LA POLIZA'])\n",
    "df['MODALIDAD DE LA POLIZA'], cat_Modalidad = pd.factorize(df['MODALIDAD DE LA POLIZA'])\n",
    "df['MONEDA'], cat_Moneda = pd.factorize(df['MONEDA'])\n",
    "df['ENTIDAD '], cat_ENTIDAD = pd.factorize(df['ENTIDAD '])\n",
    "df['SEXO'], cat_SEXO = pd.factorize(df['SEXO'])\n",
    "df['FORMA DE VENTA'], cat_Forma = pd.factorize(df['FORMA DE VENTA'])\n",
    "df['TIPO DIVIDENDO'], cat_Dividendo = pd.factorize(df['TIPO DIVIDENDO'])"
   ]
  },
  {
   "cell_type": "code",
   "execution_count": 9,
   "metadata": {},
   "outputs": [
    {
     "name": "stdout",
     "output_type": "stream",
     "text": [
      "<class 'pandas.core.frame.DataFrame'>\n",
      "RangeIndex: 211493 entries, 0 to 211492\n",
      "Data columns (total 15 columns):\n",
      " #   Column                   Non-Null Count   Dtype\n",
      "---  ------                   --------------   -----\n",
      " 0   EDAD                     211493 non-null  int32\n",
      " 1   PLAN DE LA POLIZA        211493 non-null  int64\n",
      " 2   MODALIDAD DE LA POLIZA   211493 non-null  int64\n",
      " 3   MONEDA                   211493 non-null  int64\n",
      " 4   ENTIDAD                  211493 non-null  int64\n",
      " 5   SEXO                     211493 non-null  int64\n",
      " 6   FORMA DE VENTA           211493 non-null  int64\n",
      " 7   TIPO DIVIDENDO           211493 non-null  int64\n",
      " 8   NUMERO DE ASEGURADOS     211493 non-null  int32\n",
      " 9   PRIMA CEDIDA             211493 non-null  int32\n",
      " 10  COMISIONES DIRECTAS      211493 non-null  int32\n",
      " 11  FONDO DE INVERSIÓN       211493 non-null  int32\n",
      " 12  FONDO DE ADMINISTRACION  211493 non-null  int32\n",
      " 13  MONTO DE DIVIDENDOS      211493 non-null  int32\n",
      " 14  MONTO DE RESCATE         211493 non-null  int32\n",
      "dtypes: int32(8), int64(7)\n",
      "memory usage: 17.7 MB\n"
     ]
    }
   ],
   "source": [
    "df.info()"
   ]
  },
  {
   "cell_type": "code",
   "execution_count": 11,
   "metadata": {},
   "outputs": [
    {
     "data": {
      "text/plain": [
       "<AxesSubplot: >"
      ]
     },
     "execution_count": 11,
     "metadata": {},
     "output_type": "execute_result"
    },
    {
     "data": {
      "image/png": "[encoded data removed]",
      "text/plain": [
       "<Figure size 432x288 with 2 Axes>"
      ]
     },
     "metadata": {
      "needs_background": "light"
     },
     "output_type": "display_data"
    }
   ],
   "source": [
    "sns.heatmap(df.corr())"
   ]
  },
  {
   "cell_type": "code",
   "execution_count": 12,
   "metadata": {},
   "outputs": [
    {
     "data": {
      "image/png": "[encoded data removed]",
      "text/plain": [
       "<Figure size 432x288 with 1 Axes>"
      ]
     },
     "metadata": {
      "needs_background": "light"
     },
     "output_type": "display_data"
    }
   ],
   "source": [
    "pca = PCA(n_components = 2) \n",
    "Xshort = pca.fit_transform(df)\n",
    "plt.scatter(Xshort[:,0], Xshort[:,1], c='black', s=7)\n",
    "plt.show()"
   ]
  },
  {
   "cell_type": "code",
   "execution_count": 15,
   "metadata": {},
   "outputs": [
    {
     "ename": "ValueError",
     "evalue": "Shape of passed values is (211493, 15), indices imply (211493, 4)",
     "output_type": "error",
     "traceback": [
      "\u001b[0;31m---------------------------------------------------------------------------\u001b[0m",
      "\u001b[0;31mValueError\u001b[0m                                Traceback (most recent call last)",
      "\u001b[0;32m/var/folders/wr/mv6w6lzj7qz936cjqy9_vrq40000gn/T/ipykernel_66669/899130561.py\u001b[0m in \u001b[0;36m<module>\u001b[0;34m\u001b[0m\n\u001b[1;32m      1\u001b[0m \u001b[0mrescaleX\u001b[0m \u001b[0;34m=\u001b[0m \u001b[0mStandardScaler\u001b[0m\u001b[0;34m(\u001b[0m\u001b[0;34m)\u001b[0m\u001b[0;34m.\u001b[0m\u001b[0mfit_transform\u001b[0m\u001b[0;34m(\u001b[0m\u001b[0mdf\u001b[0m\u001b[0;34m)\u001b[0m\u001b[0;34m\u001b[0m\u001b[0;34m\u001b[0m\u001b[0m\n\u001b[1;32m      2\u001b[0m \u001b[0mcolumn_names\u001b[0m \u001b[0;34m=\u001b[0m \u001b[0;34m[\u001b[0m\u001b[0;34m'FONDO DE INVERSIÓN'\u001b[0m\u001b[0;34m,\u001b[0m \u001b[0;34m'MONTO DE RESCATE'\u001b[0m\u001b[0;34m,\u001b[0m \u001b[0;34m'COMISIONES DIRECTAS'\u001b[0m\u001b[0;34m,\u001b[0m \u001b[0;34m'NUMERO DE ASEGURADOS'\u001b[0m\u001b[0;34m]\u001b[0m\u001b[0;34m\u001b[0m\u001b[0;34m\u001b[0m\u001b[0m\n\u001b[0;32m----> 3\u001b[0;31m \u001b[0mXescaled\u001b[0m \u001b[0;34m=\u001b[0m \u001b[0mpd\u001b[0m\u001b[0;34m.\u001b[0m\u001b[0mDataFrame\u001b[0m\u001b[0;34m(\u001b[0m\u001b[0mdata\u001b[0m\u001b[0;34m=\u001b[0m\u001b[0mrescaleX\u001b[0m\u001b[0;34m,\u001b[0m \u001b[0mcolumns\u001b[0m\u001b[0;34m=\u001b[0m\u001b[0mcolumn_names\u001b[0m\u001b[0;34m)\u001b[0m\u001b[0;34m\u001b[0m\u001b[0;34m\u001b[0m\u001b[0m\n\u001b[0m\u001b[1;32m      4\u001b[0m \u001b[0mXescaled\u001b[0m\u001b[0;34m\u001b[0m\u001b[0;34m\u001b[0m\u001b[0m\n",
      "\u001b[0;32m/Library/Frameworks/Python.framework/Versions/3.10/lib/python3.10/site-packages/pandas/core/frame.py\u001b[0m in \u001b[0;36m__init__\u001b[0;34m(self, data, index, columns, dtype, copy)\u001b[0m\n\u001b[1;32m    720\u001b[0m                 )\n\u001b[1;32m    721\u001b[0m             \u001b[0;32melse\u001b[0m\u001b[0;34m:\u001b[0m\u001b[0;34m\u001b[0m\u001b[0;34m\u001b[0m\u001b[0m\n\u001b[0;32m--> 722\u001b[0;31m                 mgr = ndarray_to_mgr(\n\u001b[0m\u001b[1;32m    723\u001b[0m                     \u001b[0mdata\u001b[0m\u001b[0;34m,\u001b[0m\u001b[0;34m\u001b[0m\u001b[0;34m\u001b[0m\u001b[0m\n\u001b[1;32m    724\u001b[0m                     \u001b[0mindex\u001b[0m\u001b[0;34m,\u001b[0m\u001b[0;34m\u001b[0m\u001b[0;34m\u001b[0m\u001b[0m\n",
      "\u001b[0;32m/Library/Frameworks/Python.framework/Versions/3.10/lib/python3.10/site-packages/pandas/core/internals/construction.py\u001b[0m in \u001b[0;36mndarray_to_mgr\u001b[0;34m(values, index, columns, dtype, copy, typ)\u001b[0m\n\u001b[1;32m    347\u001b[0m     )\n\u001b[1;32m    348\u001b[0m \u001b[0;34m\u001b[0m\u001b[0m\n\u001b[0;32m--> 349\u001b[0;31m     \u001b[0m_check_values_indices_shape_match\u001b[0m\u001b[0;34m(\u001b[0m\u001b[0mvalues\u001b[0m\u001b[0;34m,\u001b[0m \u001b[0mindex\u001b[0m\u001b[0;34m,\u001b[0m \u001b[0mcolumns\u001b[0m\u001b[0;34m)\u001b[0m\u001b[0;34m\u001b[0m\u001b[0;34m\u001b[0m\u001b[0m\n\u001b[0m\u001b[1;32m    350\u001b[0m \u001b[0;34m\u001b[0m\u001b[0m\n\u001b[1;32m    351\u001b[0m     \u001b[0;32mif\u001b[0m \u001b[0mtyp\u001b[0m \u001b[0;34m==\u001b[0m \u001b[0;34m\"array\"\u001b[0m\u001b[0;34m:\u001b[0m\u001b[0;34m\u001b[0m\u001b[0;34m\u001b[0m\u001b[0m\n",
      "\u001b[0;32m/Library/Frameworks/Python.framework/Versions/3.10/lib/python3.10/site-packages/pandas/core/internals/construction.py\u001b[0m in \u001b[0;36m_check_values_indices_shape_match\u001b[0;34m(values, index, columns)\u001b[0m\n\u001b[1;32m    418\u001b[0m         \u001b[0mpassed\u001b[0m \u001b[0;34m=\u001b[0m \u001b[0mvalues\u001b[0m\u001b[0;34m.\u001b[0m\u001b[0mshape\u001b[0m\u001b[0;34m\u001b[0m\u001b[0;34m\u001b[0m\u001b[0m\n\u001b[1;32m    419\u001b[0m         \u001b[0mimplied\u001b[0m \u001b[0;34m=\u001b[0m \u001b[0;34m(\u001b[0m\u001b[0mlen\u001b[0m\u001b[0;34m(\u001b[0m\u001b[0mindex\u001b[0m\u001b[0;34m)\u001b[0m\u001b[0;34m,\u001b[0m \u001b[0mlen\u001b[0m\u001b[0;34m(\u001b[0m\u001b[0mcolumns\u001b[0m\u001b[0;34m)\u001b[0m\u001b[0;34m)\u001b[0m\u001b[0;34m\u001b[0m\u001b[0;34m\u001b[0m\u001b[0m\n\u001b[0;32m--> 420\u001b[0;31m         \u001b[0;32mraise\u001b[0m \u001b[0mValueError\u001b[0m\u001b[0;34m(\u001b[0m\u001b[0;34mf\"Shape of passed values is {passed}, indices imply {implied}\"\u001b[0m\u001b[0;34m)\u001b[0m\u001b[0;34m\u001b[0m\u001b[0;34m\u001b[0m\u001b[0m\n\u001b[0m\u001b[1;32m    421\u001b[0m \u001b[0;34m\u001b[0m\u001b[0m\n\u001b[1;32m    422\u001b[0m \u001b[0;34m\u001b[0m\u001b[0m\n",
      "\u001b[0;31mValueError\u001b[0m: Shape of passed values is (211493, 15), indices imply (211493, 4)"
     ]
    }
   ],
   "source": [
    "rescaleX = StandardScaler().fit_transform(df)\n",
    "column_names = ['FONDO DE INVERSIÓN', 'MONTO DE RESCATE', 'COMISIONES DIRECTAS', 'NUMERO DE ASEGURADOS']\n",
    "Xescaled = pd.DataFrame(data=rescaleX, columns=column_names)\n",
    "Xescaled"
   ]
  },
  {
   "cell_type": "code",
   "execution_count": 18,
   "metadata": {},
   "outputs": [
    {
     "data": {
      "image/png": "[encoded data removed]",
      "text/plain": [
       "<Figure size 432x288 with 1 Axes>"
      ]
     },
     "metadata": {
      "needs_background": "light"
     },
     "output_type": "display_data"
    }
   ],
   "source": [
    "pca = PCA(n_components = 2) \n",
    "Xescaled_short = pca.fit_transform(Xescaled)\n",
    "plt.scatter(Xescaled_short[:,0], Xescaled_short[:,1], c='blue', s=7)\n",
    "plt.show()"
   ]
  },
  {
   "cell_type": "code",
   "execution_count": 19,
   "metadata": {},
   "outputs": [
    {
     "data": {
      "text/plain": [
       "array([1, 2, 1, ..., 2, 1, 1], dtype=int32)"
      ]
     },
     "execution_count": 19,
     "metadata": {},
     "output_type": "execute_result"
    }
   ],
   "source": [
    "K = 5\n",
    "kmeans_gral = KMeans(n_clusters=K, random_state=0, n_init=50).fit(Xescaled)\n",
    "kmeans_gral.labels_ "
   ]
  },
  {
   "cell_type": "code",
   "execution_count": 20,
   "metadata": {},
   "outputs": [
    {
     "data": {
      "text/plain": [
       "array([[ 1.06774385e-01,  1.71627670e-01, -1.16590192e-01,\n",
       "         1.34571709e-01, -8.80734077e-01, -2.52587270e-01,\n",
       "        -3.28633086e-01, -1.46302318e-01,  2.71671300e+00,\n",
       "         4.36042744e+00,  5.91143731e+00,  5.84716649e-01,\n",
       "         3.65516756e+00, -1.84672758e-01,  1.14567807e+00],\n",
       "       [ 2.22606691e-02, -1.93438884e-02,  1.29831857e-01,\n",
       "         3.11948816e-02,  3.95927936e-02, -9.35310097e-01,\n",
       "        -1.20959573e-02, -3.89364470e-01, -2.43834992e-02,\n",
       "        -3.14488429e-02, -5.27663082e-02, -2.89740117e-02,\n",
       "        -2.57398365e-02, -9.26528744e-04, -2.97881866e-02],\n",
       "       [-2.15007718e-02, -9.19208605e-03,  1.18188739e-01,\n",
       "         3.65333516e-02,  2.95504700e-02,  1.06916412e+00,\n",
       "        -3.70625306e-02, -3.89364470e-01, -2.37844215e-02,\n",
       "        -9.03367106e-02, -6.33212258e-02, -3.61377580e-02,\n",
       "        -3.49428110e-02, -9.26528744e-04, -3.81160654e-02],\n",
       "       [ 1.08372000e+00, -8.34683014e-01,  8.21931214e-01,\n",
       "        -7.21258609e-01, -7.50460264e-01, -1.60648632e-01,\n",
       "         6.59812415e-01, -3.77261516e-01, -1.76212871e-02,\n",
       "        -3.35792386e-02, -8.64126999e-02,  1.23923648e+01,\n",
       "        -1.43943035e-02, -6.05272397e-04,  1.02359927e+01],\n",
       "       [-3.89012832e-02,  8.83341887e-02, -7.17033093e-01,\n",
       "        -1.86200920e-01, -1.20004564e-01, -8.17717101e-02,\n",
       "         1.45632322e-01,  2.23543783e+00, -5.43526428e-02,\n",
       "         3.11919682e-02, -8.67837555e-02, -1.21352441e-01,\n",
       "        -8.64570335e-02,  1.83364471e-02, -1.07186531e-01]])"
      ]
     },
     "execution_count": 20,
     "metadata": {},
     "output_type": "execute_result"
    }
   ],
   "source": [
    "kmeans_gral.cluster_centers_"
   ]
  },
  {
   "cell_type": "code",
   "execution_count": 21,
   "metadata": {},
   "outputs": [
    {
     "data": {
      "text/plain": [
       "array([[-3.12730009,  6.70654196],\n",
       "       [-3.15877038, -2.09229614],\n",
       "       [-3.18320939, -2.19494839],\n",
       "       [12.90986064, -0.05788727],\n",
       "       [-3.44058078, -2.36141016]])"
      ]
     },
     "execution_count": 21,
     "metadata": {},
     "output_type": "execute_result"
    }
   ],
   "source": [
    "pca = PCA(n_components = 2) \n",
    "Xcenters = pca.fit_transform(kmeans_gral.cluster_centers_)\n",
    "Xcenters"
   ]
  },
  {
   "cell_type": "code",
   "execution_count": 22,
   "metadata": {},
   "outputs": [
    {
     "data": {
      "image/png": "[encoded data removed]",
      "text/plain": [
       "<Figure size 720x360 with 1 Axes>"
      ]
     },
     "metadata": {
      "needs_background": "light"
     },
     "output_type": "display_data"
    }
   ],
   "source": [
    "colors = ['darkorange', 'limegreen', 'blueviolet', 'chocolate', 'skyblue', 'tab:pink', 'tab:orange'] #ver más en: https://matplotlib.org/stable/gallery/color/named_colors.html\n",
    "fig, ax = plt.subplots(figsize=(10, 5))\n",
    "\n",
    "\n",
    "for i in range(K):\n",
    "  points = np.array([Xescaled_short[j] for j in range (len(Xescaled_short)) if kmeans_gral.labels_[j] == i]) \n",
    "  ax.scatter(points[:,0], points[:,1], s=7, c = colors[i])\n",
    "\n",
    "\n",
    "ax.scatter(Xcenters[:,0], Xcenters[:,1], marker='*',s=70, c='red')\n",
    "\n",
    "plt.title(\"Resultados iniciales\")\n",
    "plt.show()"
   ]
  },
  {
   "cell_type": "code",
   "execution_count": 23,
   "metadata": {},
   "outputs": [
    {
     "data": {
      "text/plain": [
       "array([1, 2, 1, ..., 2, 1, 1], dtype=int32)"
      ]
     },
     "execution_count": 23,
     "metadata": {},
     "output_type": "execute_result"
    }
   ],
   "source": [
    "K = 5\n",
    "kmeans_gral = KMeans(n_clusters=K, random_state=0, n_init=50).fit(Xescaled)\n",
    "kmeans_gral.labels_ "
   ]
  },
  {
   "cell_type": "code",
   "execution_count": 24,
   "metadata": {},
   "outputs": [
    {
     "name": "stderr",
     "output_type": "stream",
     "text": [
      "/Library/Frameworks/Python.framework/Versions/3.10/lib/python3.10/site-packages/yellowbrick/utils/kneed.py:156: YellowbrickWarning: No 'knee' or 'elbow point' detected This could be due to bad clustering, no actual clusters being formed etc.\n",
      "  warnings.warn(warning_message, YellowbrickWarning)\n",
      "/Library/Frameworks/Python.framework/Versions/3.10/lib/python3.10/site-packages/yellowbrick/cluster/elbow.py:374: YellowbrickWarning: No 'knee' or 'elbow' point detected, pass `locate_elbow=False` to remove the warning\n",
      "  warnings.warn(warning_message, YellowbrickWarning)\n"
     ]
    },
    {
     "data": {
      "image/png": "[encoded data removed]",
      "text/plain": [
       "<Figure size 432x288 with 2 Axes>"
      ]
     },
     "metadata": {},
     "output_type": "display_data"
    },
    {
     "data": {
      "text/plain": [
       "<AxesSubplot: title={'center': 'Distortion Score Elbow for KMeans Clustering'}, xlabel='k', ylabel='distortion score'>"
      ]
     },
     "execution_count": 24,
     "metadata": {},
     "output_type": "execute_result"
    }
   ],
   "source": [
    "visualizer = KElbowVisualizer(kmeans_gral, k=(2,6))\n",
    "visualizer.fit(Xescaled)  \n",
    "visualizer.show()       "
   ]
  }
 ],
 "metadata": {
  "kernelspec": {
   "display_name": "Python 3",
   "language": "python",
   "name": "python3"
  },
  "language_info": {
   "codemirror_mode": {
    "name": "ipython",
    "version": 3
   },
   "file_extension": ".py",
   "mimetype": "text/x-python",
   "name": "python",
   "nbconvert_exporter": "python",
   "pygments_lexer": "ipython3",
   "version": "3.10.1"
  },
  "orig_nbformat": 4
 },
 "nbformat": 4,
 "nbformat_minor": 2
}
