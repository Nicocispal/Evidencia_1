{
 "cells": [
  {
   "cell_type": "code",
   "execution_count": 2,
   "metadata": {},
   "outputs": [
    {
     "name": "stdout",
     "output_type": "stream",
     "text": [
      "<class 'pandas.core.frame.DataFrame'>\n",
      "RangeIndex: 81107 entries, 0 to 81106\n",
      "Data columns (total 12 columns):\n",
      " #   Column                  Non-Null Count  Dtype \n",
      "---  ------                  --------------  ----- \n",
      " 0   EDAD                    81107 non-null  object\n",
      " 1   COBERTURA               81107 non-null  object\n",
      " 2   ENTIDAD                 81107 non-null  object\n",
      " 3   CAUSA DEL SINIESTRO     81107 non-null  object\n",
      " 4   PLAN DE LA POLIZA       81107 non-null  object\n",
      " 5   MODALIDAD DE LA POLIZA  81107 non-null  object\n",
      " 6   SEXO                    81107 non-null  object\n",
      " 7   NUMERO DE SINIESTROS    81107 non-null  object\n",
      " 8   MONTO RECLAMADO         81107 non-null  object\n",
      " 9   VENCIMIENTOS            81107 non-null  object\n",
      " 10  MONTO PAGADO            81107 non-null  object\n",
      " 11  MONTO DE REASEGURO      81107 non-null  object\n",
      "dtypes: object(12)\n",
      "memory usage: 7.4+ MB\n",
      "None\n",
      "EDAD                      0\n",
      "COBERTURA                 0\n",
      "ENTIDAD                   0\n",
      "CAUSA DEL SINIESTRO       0\n",
      "PLAN DE LA POLIZA         0\n",
      "MODALIDAD DE LA POLIZA    0\n",
      "SEXO                      0\n",
      "NUMERO DE SINIESTROS      0\n",
      "MONTO RECLAMADO           0\n",
      "VENCIMIENTOS              0\n",
      "MONTO PAGADO              0\n",
      "MONTO DE REASEGURO        0\n",
      "dtype: int64\n",
      "EDAD\n",
      "MONTO RECLAMADO\n",
      "VENCIMIENTOS\n",
      "MONTO PAGADO\n",
      "MONTO DE REASEGURO\n",
      "<class 'pandas.core.frame.DataFrame'>\n",
      "RangeIndex: 81107 entries, 0 to 81106\n",
      "Data columns (total 12 columns):\n",
      " #   Column                  Non-Null Count  Dtype \n",
      "---  ------                  --------------  ----- \n",
      " 0   EDAD                    81107 non-null  int64 \n",
      " 1   COBERTURA               81107 non-null  object\n",
      " 2   ENTIDAD                 81107 non-null  object\n",
      " 3   CAUSA DEL SINIESTRO     81107 non-null  object\n",
      " 4   PLAN DE LA POLIZA       81107 non-null  object\n",
      " 5   MODALIDAD DE LA POLIZA  81107 non-null  object\n",
      " 6   SEXO                    81107 non-null  object\n",
      " 7   NUMERO DE SINIESTROS    81107 non-null  int64 \n",
      " 8   MONTO RECLAMADO         81107 non-null  int64 \n",
      " 9   VENCIMIENTOS            81107 non-null  int64 \n",
      " 10  MONTO PAGADO            81107 non-null  int64 \n",
      " 11  MONTO DE REASEGURO      81107 non-null  int64 \n",
      "dtypes: int64(6), object(6)\n",
      "memory usage: 7.4+ MB\n",
      "None\n"
     ]
    }
   ],
   "source": [
    "import pandas as pd\n",
    "import numpy as np\n",
    "import seaborn as sns\n",
    "from matplotlib import pyplot as plt\n",
    "import matplotlib.colors as mpl_colors\n",
    "import sys\n",
    "from processing_siniestros import *\n",
    "\n",
    "#paqueteria para ML\n",
    "from time import time\n",
    "from sklearn.model_selection import train_test_split\n",
    "from sklearn.preprocessing import StandardScaler\n",
    "from sklearn.cluster import KMeans\n",
    "from sklearn.decomposition import PCA\n",
    "\n",
    "from yellowbrick.cluster import KElbowVisualizer"
   ]
  },
  {
   "cell_type": "code",
   "execution_count": 3,
   "metadata": {},
   "outputs": [
    {
     "name": "stdout",
     "output_type": "stream",
     "text": [
      "<class 'pandas.core.frame.DataFrame'>\n",
      "RangeIndex: 81107 entries, 0 to 81106\n",
      "Data columns (total 12 columns):\n",
      " #   Column                  Non-Null Count  Dtype \n",
      "---  ------                  --------------  ----- \n",
      " 0   EDAD                    81107 non-null  object\n",
      " 1   COBERTURA               81107 non-null  object\n",
      " 2   ENTIDAD                 81107 non-null  object\n",
      " 3   CAUSA DEL SINIESTRO     81107 non-null  object\n",
      " 4   PLAN DE LA POLIZA       81107 non-null  object\n",
      " 5   MODALIDAD DE LA POLIZA  81107 non-null  object\n",
      " 6   SEXO                    81107 non-null  object\n",
      " 7   NUMERO DE SINIESTROS    81107 non-null  object\n",
      " 8   MONTO RECLAMADO         81107 non-null  object\n",
      " 9   VENCIMIENTOS            81107 non-null  object\n",
      " 10  MONTO PAGADO            81107 non-null  object\n",
      " 11  MONTO DE REASEGURO      81107 non-null  object\n",
      "dtypes: object(12)\n",
      "memory usage: 7.4+ MB\n",
      "None\n",
      "EDAD                      0\n",
      "COBERTURA                 0\n",
      "ENTIDAD                   0\n",
      "CAUSA DEL SINIESTRO       0\n",
      "PLAN DE LA POLIZA         0\n",
      "MODALIDAD DE LA POLIZA    0\n",
      "SEXO                      0\n",
      "NUMERO DE SINIESTROS      0\n",
      "MONTO RECLAMADO           0\n",
      "VENCIMIENTOS              0\n",
      "MONTO PAGADO              0\n",
      "MONTO DE REASEGURO        0\n",
      "dtype: int64\n",
      "EDAD\n",
      "MONTO RECLAMADO\n",
      "VENCIMIENTOS\n",
      "MONTO PAGADO\n",
      "MONTO DE REASEGURO\n"
     ]
    }
   ],
   "source": [
    "df = process_siniestros()"
   ]
  },
  {
   "cell_type": "code",
   "execution_count": 4,
   "metadata": {},
   "outputs": [
    {
     "name": "stdout",
     "output_type": "stream",
     "text": [
      "<class 'pandas.core.frame.DataFrame'>\n",
      "RangeIndex: 81107 entries, 0 to 81106\n",
      "Data columns (total 12 columns):\n",
      " #   Column                  Non-Null Count  Dtype \n",
      "---  ------                  --------------  ----- \n",
      " 0   EDAD                    81107 non-null  int64 \n",
      " 1   COBERTURA               81107 non-null  object\n",
      " 2   ENTIDAD                 81107 non-null  object\n",
      " 3   CAUSA DEL SINIESTRO     81107 non-null  object\n",
      " 4   PLAN DE LA POLIZA       81107 non-null  object\n",
      " 5   MODALIDAD DE LA POLIZA  81107 non-null  object\n",
      " 6   SEXO                    81107 non-null  object\n",
      " 7   NUMERO DE SINIESTROS    81107 non-null  int64 \n",
      " 8   MONTO RECLAMADO         81107 non-null  int64 \n",
      " 9   VENCIMIENTOS            81107 non-null  int64 \n",
      " 10  MONTO PAGADO            81107 non-null  int64 \n",
      " 11  MONTO DE REASEGURO      81107 non-null  int64 \n",
      "dtypes: int64(6), object(6)\n",
      "memory usage: 7.4+ MB\n"
     ]
    }
   ],
   "source": [
    "df.info()"
   ]
  },
  {
   "cell_type": "code",
   "execution_count": 5,
   "metadata": {},
   "outputs": [
    {
     "data": {
      "text/html": [
       "<div>\n",
       "<style scoped>\n",
       "    .dataframe tbody tr th:only-of-type {\n",
       "        vertical-align: middle;\n",
       "    }\n",
       "\n",
       "    .dataframe tbody tr th {\n",
       "        vertical-align: top;\n",
       "    }\n",
       "\n",
       "    .dataframe thead th {\n",
       "        text-align: right;\n",
       "    }\n",
       "</style>\n",
       "<table border=\"1\" class=\"dataframe\">\n",
       "  <thead>\n",
       "    <tr style=\"text-align: right;\">\n",
       "      <th></th>\n",
       "      <th>EDAD</th>\n",
       "      <th>COBERTURA</th>\n",
       "      <th>ENTIDAD</th>\n",
       "      <th>CAUSA DEL SINIESTRO</th>\n",
       "      <th>PLAN DE LA POLIZA</th>\n",
       "      <th>MODALIDAD DE LA POLIZA</th>\n",
       "      <th>SEXO</th>\n",
       "      <th>NUMERO DE SINIESTROS</th>\n",
       "      <th>MONTO RECLAMADO</th>\n",
       "      <th>VENCIMIENTOS</th>\n",
       "      <th>MONTO PAGADO</th>\n",
       "      <th>MONTO DE REASEGURO</th>\n",
       "    </tr>\n",
       "  </thead>\n",
       "  <tbody>\n",
       "    <tr>\n",
       "      <th>0</th>\n",
       "      <td>61</td>\n",
       "      <td>Invalidez total y permanente</td>\n",
       "      <td>Baja California</td>\n",
       "      <td>(OSTEO)ARTROSIS PRIMARIA GENERALIZADA</td>\n",
       "      <td>Vitalicio</td>\n",
       "      <td>Flexible sin tasa garantizada</td>\n",
       "      <td>Femenino</td>\n",
       "      <td>1</td>\n",
       "      <td>1485501</td>\n",
       "      <td>0</td>\n",
       "      <td>1489939</td>\n",
       "      <td>0</td>\n",
       "    </tr>\n",
       "    <tr>\n",
       "      <th>1</th>\n",
       "      <td>46</td>\n",
       "      <td>Asistencias</td>\n",
       "      <td>Baja California</td>\n",
       "      <td>(OSTEO)ARTROSIS PRIMARIA GENERALIZADA</td>\n",
       "      <td>Vitalicio</td>\n",
       "      <td>Tradicional</td>\n",
       "      <td>Femenino</td>\n",
       "      <td>1</td>\n",
       "      <td>-5800</td>\n",
       "      <td>0</td>\n",
       "      <td>0</td>\n",
       "      <td>0</td>\n",
       "    </tr>\n",
       "    <tr>\n",
       "      <th>2</th>\n",
       "      <td>46</td>\n",
       "      <td>Fallecimiento</td>\n",
       "      <td>Baja California</td>\n",
       "      <td>(OSTEO)ARTROSIS PRIMARIA GENERALIZADA</td>\n",
       "      <td>Vitalicio</td>\n",
       "      <td>Tradicional</td>\n",
       "      <td>Femenino</td>\n",
       "      <td>1</td>\n",
       "      <td>-469892</td>\n",
       "      <td>0</td>\n",
       "      <td>0</td>\n",
       "      <td>0</td>\n",
       "    </tr>\n",
       "    <tr>\n",
       "      <th>3</th>\n",
       "      <td>46</td>\n",
       "      <td>Gastos funerarios</td>\n",
       "      <td>Baja California</td>\n",
       "      <td>(OSTEO)ARTROSIS PRIMARIA GENERALIZADA</td>\n",
       "      <td>Vitalicio</td>\n",
       "      <td>Tradicional</td>\n",
       "      <td>Femenino</td>\n",
       "      <td>1</td>\n",
       "      <td>-46546</td>\n",
       "      <td>0</td>\n",
       "      <td>0</td>\n",
       "      <td>0</td>\n",
       "    </tr>\n",
       "    <tr>\n",
       "      <th>4</th>\n",
       "      <td>64</td>\n",
       "      <td>Fallecimiento</td>\n",
       "      <td>Sonora</td>\n",
       "      <td>ABDOMEN AGUDO</td>\n",
       "      <td>Vitalicio</td>\n",
       "      <td>Flexible sin tasa garantizada</td>\n",
       "      <td>Femenino</td>\n",
       "      <td>1</td>\n",
       "      <td>495167</td>\n",
       "      <td>0</td>\n",
       "      <td>496646</td>\n",
       "      <td>0</td>\n",
       "    </tr>\n",
       "    <tr>\n",
       "      <th>...</th>\n",
       "      <td>...</td>\n",
       "      <td>...</td>\n",
       "      <td>...</td>\n",
       "      <td>...</td>\n",
       "      <td>...</td>\n",
       "      <td>...</td>\n",
       "      <td>...</td>\n",
       "      <td>...</td>\n",
       "      <td>...</td>\n",
       "      <td>...</td>\n",
       "      <td>...</td>\n",
       "      <td>...</td>\n",
       "    </tr>\n",
       "    <tr>\n",
       "      <th>81102</th>\n",
       "      <td>26</td>\n",
       "      <td>Fallecimiento</td>\n",
       "      <td>Puebla</td>\n",
       "      <td>PRESENCIA DE OJO ARTIFICIAL</td>\n",
       "      <td>Dotal Mixto</td>\n",
       "      <td>Tradicional</td>\n",
       "      <td>Femenino</td>\n",
       "      <td>1</td>\n",
       "      <td>298422</td>\n",
       "      <td>0</td>\n",
       "      <td>296911</td>\n",
       "      <td>0</td>\n",
       "    </tr>\n",
       "    <tr>\n",
       "      <th>81103</th>\n",
       "      <td>48</td>\n",
       "      <td>Fallecimiento</td>\n",
       "      <td>Sonora</td>\n",
       "      <td>PRESENCIA DE OJO ARTIFICIAL</td>\n",
       "      <td>Dotal Mixto</td>\n",
       "      <td>Tradicional</td>\n",
       "      <td>Femenino</td>\n",
       "      <td>1</td>\n",
       "      <td>656460</td>\n",
       "      <td>0</td>\n",
       "      <td>674796</td>\n",
       "      <td>0</td>\n",
       "    </tr>\n",
       "    <tr>\n",
       "      <th>81104</th>\n",
       "      <td>50</td>\n",
       "      <td>Exención de pago de prima</td>\n",
       "      <td>Puebla</td>\n",
       "      <td>PRESENCIA DE OJO ARTIFICIAL</td>\n",
       "      <td>Temporal</td>\n",
       "      <td>Tradicional</td>\n",
       "      <td>Masculino</td>\n",
       "      <td>2</td>\n",
       "      <td>12955</td>\n",
       "      <td>0</td>\n",
       "      <td>12994</td>\n",
       "      <td>0</td>\n",
       "    </tr>\n",
       "    <tr>\n",
       "      <th>81105</th>\n",
       "      <td>53</td>\n",
       "      <td>Invalidez total y permanente</td>\n",
       "      <td>Tabasco</td>\n",
       "      <td>ESTADO DE DERIVACIÓN INTESTINAL O ANASTOMOSIS</td>\n",
       "      <td>Vitalicio</td>\n",
       "      <td>Flexible con tasa garantizada</td>\n",
       "      <td>Masculino</td>\n",
       "      <td>1</td>\n",
       "      <td>129652</td>\n",
       "      <td>0</td>\n",
       "      <td>130039</td>\n",
       "      <td>0</td>\n",
       "    </tr>\n",
       "    <tr>\n",
       "      <th>81106</th>\n",
       "      <td>53</td>\n",
       "      <td>Exención de pago de prima</td>\n",
       "      <td>Tabasco</td>\n",
       "      <td>ESTADO DE DERIVACIÓN INTESTINAL O ANASTOMOSIS</td>\n",
       "      <td>Vitalicio</td>\n",
       "      <td>Flexible con tasa garantizada</td>\n",
       "      <td>Masculino</td>\n",
       "      <td>2</td>\n",
       "      <td>57691</td>\n",
       "      <td>0</td>\n",
       "      <td>7407</td>\n",
       "      <td>0</td>\n",
       "    </tr>\n",
       "  </tbody>\n",
       "</table>\n",
       "<p>81107 rows × 12 columns</p>\n",
       "</div>"
      ],
      "text/plain": [
       "       EDAD                     COBERTURA          ENTIDAD  \\\n",
       "0        61  Invalidez total y permanente  Baja California   \n",
       "1        46                   Asistencias  Baja California   \n",
       "2        46                 Fallecimiento  Baja California   \n",
       "3        46             Gastos funerarios  Baja California   \n",
       "4        64                 Fallecimiento           Sonora   \n",
       "...     ...                           ...              ...   \n",
       "81102    26                 Fallecimiento           Puebla   \n",
       "81103    48                 Fallecimiento           Sonora   \n",
       "81104    50     Exención de pago de prima           Puebla   \n",
       "81105    53  Invalidez total y permanente          Tabasco   \n",
       "81106    53     Exención de pago de prima          Tabasco   \n",
       "\n",
       "                                 CAUSA DEL SINIESTRO PLAN DE LA POLIZA  \\\n",
       "0              (OSTEO)ARTROSIS PRIMARIA GENERALIZADA         Vitalicio   \n",
       "1              (OSTEO)ARTROSIS PRIMARIA GENERALIZADA         Vitalicio   \n",
       "2              (OSTEO)ARTROSIS PRIMARIA GENERALIZADA         Vitalicio   \n",
       "3              (OSTEO)ARTROSIS PRIMARIA GENERALIZADA         Vitalicio   \n",
       "4                                      ABDOMEN AGUDO         Vitalicio   \n",
       "...                                              ...               ...   \n",
       "81102                    PRESENCIA DE OJO ARTIFICIAL       Dotal Mixto   \n",
       "81103                    PRESENCIA DE OJO ARTIFICIAL       Dotal Mixto   \n",
       "81104                    PRESENCIA DE OJO ARTIFICIAL          Temporal   \n",
       "81105  ESTADO DE DERIVACIÓN INTESTINAL O ANASTOMOSIS         Vitalicio   \n",
       "81106  ESTADO DE DERIVACIÓN INTESTINAL O ANASTOMOSIS         Vitalicio   \n",
       "\n",
       "              MODALIDAD DE LA POLIZA       SEXO  NUMERO DE SINIESTROS  \\\n",
       "0      Flexible sin tasa garantizada   Femenino                     1   \n",
       "1                        Tradicional   Femenino                     1   \n",
       "2                        Tradicional   Femenino                     1   \n",
       "3                        Tradicional   Femenino                     1   \n",
       "4      Flexible sin tasa garantizada   Femenino                     1   \n",
       "...                              ...        ...                   ...   \n",
       "81102                    Tradicional   Femenino                     1   \n",
       "81103                    Tradicional   Femenino                     1   \n",
       "81104                    Tradicional  Masculino                     2   \n",
       "81105  Flexible con tasa garantizada  Masculino                     1   \n",
       "81106  Flexible con tasa garantizada  Masculino                     2   \n",
       "\n",
       "       MONTO RECLAMADO  VENCIMIENTOS  MONTO PAGADO  MONTO DE REASEGURO  \n",
       "0              1485501             0       1489939                   0  \n",
       "1                -5800             0             0                   0  \n",
       "2              -469892             0             0                   0  \n",
       "3               -46546             0             0                   0  \n",
       "4               495167             0        496646                   0  \n",
       "...                ...           ...           ...                 ...  \n",
       "81102           298422             0        296911                   0  \n",
       "81103           656460             0        674796                   0  \n",
       "81104            12955             0         12994                   0  \n",
       "81105           129652             0        130039                   0  \n",
       "81106            57691             0          7407                   0  \n",
       "\n",
       "[81107 rows x 12 columns]"
      ]
     },
     "execution_count": 5,
     "metadata": {},
     "output_type": "execute_result"
    }
   ],
   "source": [
    "df"
   ]
  },
  {
   "cell_type": "code",
   "execution_count": 6,
   "metadata": {},
   "outputs": [],
   "source": [
    "# Cambio completo de objetos a ints\n",
    "df = df.apply(pd.to_numeric, downcast='integer', errors='ignore')"
   ]
  },
  {
   "cell_type": "code",
   "execution_count": 7,
   "metadata": {},
   "outputs": [],
   "source": [
    "df[['NUMERO DE SINIESTROS', 'EDAD']] = df[['NUMERO DE SINIESTROS', 'EDAD']].astype('int32')"
   ]
  },
  {
   "cell_type": "code",
   "execution_count": 8,
   "metadata": {},
   "outputs": [
    {
     "name": "stdout",
     "output_type": "stream",
     "text": [
      "<class 'pandas.core.frame.DataFrame'>\n",
      "RangeIndex: 81107 entries, 0 to 81106\n",
      "Data columns (total 12 columns):\n",
      " #   Column                  Non-Null Count  Dtype \n",
      "---  ------                  --------------  ----- \n",
      " 0   EDAD                    81107 non-null  int32 \n",
      " 1   COBERTURA               81107 non-null  object\n",
      " 2   ENTIDAD                 81107 non-null  object\n",
      " 3   CAUSA DEL SINIESTRO     81107 non-null  object\n",
      " 4   PLAN DE LA POLIZA       81107 non-null  object\n",
      " 5   MODALIDAD DE LA POLIZA  81107 non-null  object\n",
      " 6   SEXO                    81107 non-null  object\n",
      " 7   NUMERO DE SINIESTROS    81107 non-null  int32 \n",
      " 8   MONTO RECLAMADO         81107 non-null  int32 \n",
      " 9   VENCIMIENTOS            81107 non-null  int32 \n",
      " 10  MONTO PAGADO            81107 non-null  int32 \n",
      " 11  MONTO DE REASEGURO      81107 non-null  int32 \n",
      "dtypes: int32(6), object(6)\n",
      "memory usage: 5.6+ MB\n"
     ]
    }
   ],
   "source": [
    "df.info()"
   ]
  },
  {
   "cell_type": "code",
   "execution_count": 9,
   "metadata": {},
   "outputs": [],
   "source": [
    "df['COBERTURA'], cat_COBERTURA = pd.factorize(df['COBERTURA'])\n",
    "df['ENTIDAD'], cat_ENTIDAD = pd.factorize(df['ENTIDAD'])\n",
    "df['CAUSA DEL SINIESTRO'], cat_CAUSA_SINIESTRO = pd.factorize(df['CAUSA DEL SINIESTRO'])\n",
    "df['PLAN DE LA POLIZA'], cat_PLAN_POLIZA = pd.factorize(df['PLAN DE LA POLIZA'])\n",
    "df['MODALIDAD DE LA POLIZA'], cat_MODALIDAD_POLIZA = pd.factorize(df['MODALIDAD DE LA POLIZA'])\n",
    "df['SEXO'], cat_SEXO = pd.factorize(df['SEXO'])"
   ]
  },
  {
   "cell_type": "code",
   "execution_count": 10,
   "metadata": {},
   "outputs": [
    {
     "name": "stdout",
     "output_type": "stream",
     "text": [
      "Index(['Invalidez total y permanente', 'Asistencias', 'Fallecimiento',\n",
      "       'Gastos funerarios', 'Otros', 'Exención de pago de prima',\n",
      "       'Enfermedades graves', 'Ahorro / inversión',\n",
      "       'Muerte accidental (Doble indemnización)',\n",
      "       'Muerte colectiva (Triple indemnización)', 'Sobrevivencia',\n",
      "       'Devolución de prima', 'Desempleo/Incapacidad temporal',\n",
      "       'Pérdidas Orgánicas', 'Dotales corto plazo'],\n",
      "      dtype='object')\n",
      "Index(['Baja California', 'Sonora', 'Nayarit', 'Ciudad de México', 'Colima',\n",
      "       'Puebla', 'Jalisco', 'Sinaloa', 'Veracruz', 'Baja California Sur',\n",
      "       'Nuevo Leon', 'Chiapas', 'Campeche', 'Zacatecas', 'Yucatán',\n",
      "       'Aguascalientes', 'San Luis Potosí', 'Chihuahua', 'Guanajuato',\n",
      "       'Oaxaca', 'Mexico', 'Guerrero', 'Tamaulipas', 'Querétaro', 'Morelos',\n",
      "       'En el Extranjero', 'Coahuila', 'Michoacán', 'Tlaxcala', 'Hidalgo',\n",
      "       'Tabasco', 'Durango', 'Quintana Roo', 'Sin domicilio fijo',\n",
      "       'No aplica'],\n",
      "      dtype='object')\n",
      "Index(['(OSTEO)ARTROSIS PRIMARIA GENERALIZADA', 'ABDOMEN AGUDO',\n",
      "       'ABORTO ESPONTÁNEO INCOMPLETO, COMPLICADO CON INFECCIÓN GENITAL Y PELVIANA',\n",
      "       'ABORTO MÉDICO INCOMPLETO, COMPLICADO CON INFECCIÓN GENITAL Y PELVIANA',\n",
      "       'ABORTO NO ESPECIFICADO INCOMPLETO, COMPLICADO CON INFECCIÓN GENITAL Y PELVIANA',\n",
      "       'ABSCESO AMEBIANO DEL HÍGADO', 'ABSCESO AMEBIANO DEL PULMÓN',\n",
      "       'ABSCESO ANAL', 'ABSCESO ANORRECTAL', 'ABSCESO CEREBRAL FEOMICÓTICO',\n",
      "       ...\n",
      "       'HISTORIA PERSONAL DE ENFERMEDADES DE LA PIEL Y DEL TEJIDO SUBCUTÁNEO',\n",
      "       'AUSENCIA ADQUIRIDA DE DEDO(S), [INCLUIDO EL PULGAR], UNILATERAL',\n",
      "       'AUSENCIA ADQUIRIDA DE PARTE DE LA CABEZA Y DEL CUELLO',\n",
      "       'TRAQUEOSTOMÍA', 'GASTROSTOMÍA', 'ILEOSTOMÍA',\n",
      "       'OTROS ORIFICIOS ARTIFICIALES DEL TUBO GASTROINTESTINAL',\n",
      "       'TRASPLANTE DE RIÑÓN', 'PRESENCIA DE OJO ARTIFICIAL',\n",
      "       'ESTADO DE DERIVACIÓN INTESTINAL O ANASTOMOSIS'],\n",
      "      dtype='object', length=2767)\n",
      "Index(['Vitalicio', 'Temporal', 'Dotal Mixto', 'No disponible ', 'Dotal Puro',\n",
      "       'Otros', 'Rentas'],\n",
      "      dtype='object')\n",
      "Index(['Flexible sin tasa garantizada', 'Tradicional',\n",
      "       'Flexible con tasa garantizada', 'Deudores', 'No disponible ',\n",
      "       'Educativo', 'Mancomunado', 'Producto básico estandarizado',\n",
      "       'Microseguro', 'Retiro', 'Otros'],\n",
      "      dtype='object')\n",
      "Index(['Femenino', 'Masculino', 'No disponible'], dtype='object')\n"
     ]
    }
   ],
   "source": [
    "print(cat_COBERTURA)\n",
    "print(cat_ENTIDAD)\n",
    "print(cat_CAUSA_SINIESTRO)\n",
    "print(cat_PLAN_POLIZA)\n",
    "print(cat_MODALIDAD_POLIZA)\n",
    "print(cat_SEXO)"
   ]
  },
  {
   "cell_type": "code",
   "execution_count": 11,
   "metadata": {},
   "outputs": [
    {
     "name": "stdout",
     "output_type": "stream",
     "text": [
      "<class 'pandas.core.frame.DataFrame'>\n",
      "RangeIndex: 81107 entries, 0 to 81106\n",
      "Data columns (total 12 columns):\n",
      " #   Column                  Non-Null Count  Dtype\n",
      "---  ------                  --------------  -----\n",
      " 0   EDAD                    81107 non-null  int32\n",
      " 1   COBERTURA               81107 non-null  int64\n",
      " 2   ENTIDAD                 81107 non-null  int64\n",
      " 3   CAUSA DEL SINIESTRO     81107 non-null  int64\n",
      " 4   PLAN DE LA POLIZA       81107 non-null  int64\n",
      " 5   MODALIDAD DE LA POLIZA  81107 non-null  int64\n",
      " 6   SEXO                    81107 non-null  int64\n",
      " 7   NUMERO DE SINIESTROS    81107 non-null  int32\n",
      " 8   MONTO RECLAMADO         81107 non-null  int32\n",
      " 9   VENCIMIENTOS            81107 non-null  int32\n",
      " 10  MONTO PAGADO            81107 non-null  int32\n",
      " 11  MONTO DE REASEGURO      81107 non-null  int32\n",
      "dtypes: int32(6), int64(6)\n",
      "memory usage: 5.6 MB\n"
     ]
    }
   ],
   "source": [
    "df.info()"
   ]
  },
  {
   "cell_type": "code",
   "execution_count": 12,
   "metadata": {},
   "outputs": [
    {
     "data": {
      "image/png": "[encoded data removed]",
      "text/plain": [
       "<Figure size 432x288 with 1 Axes>"
      ]
     },
     "metadata": {
      "needs_background": "light"
     },
     "output_type": "display_data"
    }
   ],
   "source": [
    "#vamos a reducir la dimensionalidad de estos datos, pues lo usaremos para graficar\n",
    "pca = PCA(n_components = 2) #solo 2, para poder graficar en el eje X y eje Y\n",
    "Xshort = pca.fit_transform(df)\n",
    "plt.scatter(Xshort[:,0], Xshort[:,1], c='black', s=7)\n",
    "plt.show()"
   ]
  },
  {
   "cell_type": "code",
   "execution_count": 13,
   "metadata": {},
   "outputs": [
    {
     "data": {
      "text/html": [
       "<div>\n",
       "<style scoped>\n",
       "    .dataframe tbody tr th:only-of-type {\n",
       "        vertical-align: middle;\n",
       "    }\n",
       "\n",
       "    .dataframe tbody tr th {\n",
       "        vertical-align: top;\n",
       "    }\n",
       "\n",
       "    .dataframe thead th {\n",
       "        text-align: right;\n",
       "    }\n",
       "</style>\n",
       "<table border=\"1\" class=\"dataframe\">\n",
       "  <thead>\n",
       "    <tr style=\"text-align: right;\">\n",
       "      <th></th>\n",
       "      <th>EDAD</th>\n",
       "      <th>COBERTURA</th>\n",
       "      <th>ENTIDAD</th>\n",
       "      <th>CAUSA DEL SINIESTRO</th>\n",
       "      <th>PLAN DE LA POLIZA</th>\n",
       "      <th>MODALIDAD DE LA POLIZA</th>\n",
       "      <th>SEXO</th>\n",
       "      <th>NUMERO DE SINIESTROS</th>\n",
       "      <th>MONTO RECLAMADO</th>\n",
       "      <th>VENCIMIENTOS</th>\n",
       "      <th>MONTO PAGADO</th>\n",
       "      <th>MONTO DE REASEGURO</th>\n",
       "    </tr>\n",
       "  </thead>\n",
       "  <tbody>\n",
       "    <tr>\n",
       "      <th>0</th>\n",
       "      <td>0.56</td>\n",
       "      <td>-1.26</td>\n",
       "      <td>-1.33</td>\n",
       "      <td>-1.64</td>\n",
       "      <td>-0.94</td>\n",
       "      <td>-0.87</td>\n",
       "      <td>-1.08</td>\n",
       "      <td>-0.09</td>\n",
       "      <td>0.37</td>\n",
       "      <td>-0.09</td>\n",
       "      <td>0.20</td>\n",
       "      <td>-0.03</td>\n",
       "    </tr>\n",
       "    <tr>\n",
       "      <th>1</th>\n",
       "      <td>-0.24</td>\n",
       "      <td>-0.97</td>\n",
       "      <td>-1.33</td>\n",
       "      <td>-1.64</td>\n",
       "      <td>-0.94</td>\n",
       "      <td>-0.19</td>\n",
       "      <td>-1.08</td>\n",
       "      <td>-0.09</td>\n",
       "      <td>-0.12</td>\n",
       "      <td>-0.09</td>\n",
       "      <td>-0.11</td>\n",
       "      <td>-0.03</td>\n",
       "    </tr>\n",
       "    <tr>\n",
       "      <th>2</th>\n",
       "      <td>-0.24</td>\n",
       "      <td>-0.68</td>\n",
       "      <td>-1.33</td>\n",
       "      <td>-1.64</td>\n",
       "      <td>-0.94</td>\n",
       "      <td>-0.19</td>\n",
       "      <td>-1.08</td>\n",
       "      <td>-0.09</td>\n",
       "      <td>-0.27</td>\n",
       "      <td>-0.09</td>\n",
       "      <td>-0.11</td>\n",
       "      <td>-0.03</td>\n",
       "    </tr>\n",
       "    <tr>\n",
       "      <th>3</th>\n",
       "      <td>-0.24</td>\n",
       "      <td>-0.39</td>\n",
       "      <td>-1.33</td>\n",
       "      <td>-1.64</td>\n",
       "      <td>-0.94</td>\n",
       "      <td>-0.19</td>\n",
       "      <td>-1.08</td>\n",
       "      <td>-0.09</td>\n",
       "      <td>-0.13</td>\n",
       "      <td>-0.09</td>\n",
       "      <td>-0.11</td>\n",
       "      <td>-0.03</td>\n",
       "    </tr>\n",
       "    <tr>\n",
       "      <th>4</th>\n",
       "      <td>0.72</td>\n",
       "      <td>-0.68</td>\n",
       "      <td>-1.22</td>\n",
       "      <td>-1.64</td>\n",
       "      <td>-0.94</td>\n",
       "      <td>-0.87</td>\n",
       "      <td>-1.08</td>\n",
       "      <td>-0.09</td>\n",
       "      <td>0.05</td>\n",
       "      <td>-0.09</td>\n",
       "      <td>-0.01</td>\n",
       "      <td>-0.03</td>\n",
       "    </tr>\n",
       "    <tr>\n",
       "      <th>...</th>\n",
       "      <td>...</td>\n",
       "      <td>...</td>\n",
       "      <td>...</td>\n",
       "      <td>...</td>\n",
       "      <td>...</td>\n",
       "      <td>...</td>\n",
       "      <td>...</td>\n",
       "      <td>...</td>\n",
       "      <td>...</td>\n",
       "      <td>...</td>\n",
       "      <td>...</td>\n",
       "      <td>...</td>\n",
       "    </tr>\n",
       "    <tr>\n",
       "      <th>81102</th>\n",
       "      <td>-1.29</td>\n",
       "      <td>-0.68</td>\n",
       "      <td>-0.79</td>\n",
       "      <td>1.97</td>\n",
       "      <td>1.25</td>\n",
       "      <td>-0.19</td>\n",
       "      <td>-1.08</td>\n",
       "      <td>-0.09</td>\n",
       "      <td>-0.02</td>\n",
       "      <td>-0.09</td>\n",
       "      <td>-0.05</td>\n",
       "      <td>-0.03</td>\n",
       "    </tr>\n",
       "    <tr>\n",
       "      <th>81103</th>\n",
       "      <td>-0.13</td>\n",
       "      <td>-0.68</td>\n",
       "      <td>-1.22</td>\n",
       "      <td>1.97</td>\n",
       "      <td>1.25</td>\n",
       "      <td>-0.19</td>\n",
       "      <td>-1.08</td>\n",
       "      <td>-0.09</td>\n",
       "      <td>0.10</td>\n",
       "      <td>-0.09</td>\n",
       "      <td>0.03</td>\n",
       "      <td>-0.03</td>\n",
       "    </tr>\n",
       "    <tr>\n",
       "      <th>81104</th>\n",
       "      <td>-0.02</td>\n",
       "      <td>0.19</td>\n",
       "      <td>-0.79</td>\n",
       "      <td>1.97</td>\n",
       "      <td>0.15</td>\n",
       "      <td>-0.19</td>\n",
       "      <td>0.64</td>\n",
       "      <td>-0.03</td>\n",
       "      <td>-0.11</td>\n",
       "      <td>-0.09</td>\n",
       "      <td>-0.11</td>\n",
       "      <td>-0.03</td>\n",
       "    </tr>\n",
       "    <tr>\n",
       "      <th>81105</th>\n",
       "      <td>0.13</td>\n",
       "      <td>-1.26</td>\n",
       "      <td>1.89</td>\n",
       "      <td>1.97</td>\n",
       "      <td>-0.94</td>\n",
       "      <td>0.48</td>\n",
       "      <td>0.64</td>\n",
       "      <td>-0.09</td>\n",
       "      <td>-0.07</td>\n",
       "      <td>-0.09</td>\n",
       "      <td>-0.08</td>\n",
       "      <td>-0.03</td>\n",
       "    </tr>\n",
       "    <tr>\n",
       "      <th>81106</th>\n",
       "      <td>0.13</td>\n",
       "      <td>0.19</td>\n",
       "      <td>1.89</td>\n",
       "      <td>1.97</td>\n",
       "      <td>-0.94</td>\n",
       "      <td>0.48</td>\n",
       "      <td>0.64</td>\n",
       "      <td>-0.03</td>\n",
       "      <td>-0.10</td>\n",
       "      <td>-0.09</td>\n",
       "      <td>-0.11</td>\n",
       "      <td>-0.03</td>\n",
       "    </tr>\n",
       "  </tbody>\n",
       "</table>\n",
       "<p>81107 rows × 12 columns</p>\n",
       "</div>"
      ],
      "text/plain": [
       "       EDAD  COBERTURA  ENTIDAD  CAUSA DEL SINIESTRO  PLAN DE LA POLIZA  \\\n",
       "0      0.56      -1.26    -1.33                -1.64              -0.94   \n",
       "1     -0.24      -0.97    -1.33                -1.64              -0.94   \n",
       "2     -0.24      -0.68    -1.33                -1.64              -0.94   \n",
       "3     -0.24      -0.39    -1.33                -1.64              -0.94   \n",
       "4      0.72      -0.68    -1.22                -1.64              -0.94   \n",
       "...     ...        ...      ...                  ...                ...   \n",
       "81102 -1.29      -0.68    -0.79                 1.97               1.25   \n",
       "81103 -0.13      -0.68    -1.22                 1.97               1.25   \n",
       "81104 -0.02       0.19    -0.79                 1.97               0.15   \n",
       "81105  0.13      -1.26     1.89                 1.97              -0.94   \n",
       "81106  0.13       0.19     1.89                 1.97              -0.94   \n",
       "\n",
       "       MODALIDAD DE LA POLIZA  SEXO  NUMERO DE SINIESTROS  MONTO RECLAMADO  \\\n",
       "0                       -0.87 -1.08                 -0.09             0.37   \n",
       "1                       -0.19 -1.08                 -0.09            -0.12   \n",
       "2                       -0.19 -1.08                 -0.09            -0.27   \n",
       "3                       -0.19 -1.08                 -0.09            -0.13   \n",
       "4                       -0.87 -1.08                 -0.09             0.05   \n",
       "...                       ...   ...                   ...              ...   \n",
       "81102                   -0.19 -1.08                 -0.09            -0.02   \n",
       "81103                   -0.19 -1.08                 -0.09             0.10   \n",
       "81104                   -0.19  0.64                 -0.03            -0.11   \n",
       "81105                    0.48  0.64                 -0.09            -0.07   \n",
       "81106                    0.48  0.64                 -0.03            -0.10   \n",
       "\n",
       "       VENCIMIENTOS  MONTO PAGADO  MONTO DE REASEGURO  \n",
       "0             -0.09          0.20               -0.03  \n",
       "1             -0.09         -0.11               -0.03  \n",
       "2             -0.09         -0.11               -0.03  \n",
       "3             -0.09         -0.11               -0.03  \n",
       "4             -0.09         -0.01               -0.03  \n",
       "...             ...           ...                 ...  \n",
       "81102         -0.09         -0.05               -0.03  \n",
       "81103         -0.09          0.03               -0.03  \n",
       "81104         -0.09         -0.11               -0.03  \n",
       "81105         -0.09         -0.08               -0.03  \n",
       "81106         -0.09         -0.11               -0.03  \n",
       "\n",
       "[81107 rows x 12 columns]"
      ]
     },
     "execution_count": 13,
     "metadata": {},
     "output_type": "execute_result"
    }
   ],
   "source": [
    "rescaleX = StandardScaler().fit_transform(df)\n",
    "Xescaled = pd.DataFrame(data = rescaleX, columns = df.columns)\n",
    "Xescaled"
   ]
  },
  {
   "cell_type": "code",
   "execution_count": 14,
   "metadata": {},
   "outputs": [
    {
     "data": {
      "image/png": "[encoded data removed]",
      "text/plain": [
       "<Figure size 432x288 with 1 Axes>"
      ]
     },
     "metadata": {
      "needs_background": "light"
     },
     "output_type": "display_data"
    }
   ],
   "source": [
    "#vamos a reducir la dimensionalidad de estos datos, pues lo usaremos para graficar\n",
    "pca = PCA(n_components = 2) #solo 2, para poder graficar en el eje X y eje Y\n",
    "Xescaled_short = pca.fit_transform(Xescaled)\n",
    "plt.scatter(Xescaled_short[:,0], Xescaled_short[:,1], c='blue', s=7)\n",
    "plt.show()"
   ]
  },
  {
   "cell_type": "code",
   "execution_count": 15,
   "metadata": {},
   "outputs": [
    {
     "data": {
      "text/plain": [
       "array([1, 1, 1, ..., 1, 1, 0], dtype=int32)"
      ]
     },
     "execution_count": 15,
     "metadata": {},
     "output_type": "execute_result"
    }
   ],
   "source": [
    "#n_clusters: número de gruos a serem creados\n",
    "#n_init: número de repeticiones del algoritmo\n",
    "K = 5\n",
    "kmeans_gral = KMeans(n_clusters=K, random_state=0, n_init=50).fit(Xescaled)\n",
    "kmeans_gral.labels_ #grupos a los cuales cada elemeto "
   ]
  },
  {
   "cell_type": "code",
   "execution_count": 16,
   "metadata": {},
   "outputs": [
    {
     "data": {
      "text/plain": [
       "array([[-1.95328435e-01,  1.63100753e+00,  2.18818625e-01,\n",
       "         4.19815045e-01,  3.55581729e-01,  2.98537750e-01,\n",
       "        -1.66940461e-01,  1.51554764e-01, -4.67392876e-02,\n",
       "         2.32053243e-01,  7.56004289e-02, -3.19167026e-02],\n",
       "       [ 2.66430291e-01, -4.75389284e-01, -7.28352087e-02,\n",
       "        -1.38289416e-01, -3.37433288e-01, -3.37175885e-01,\n",
       "        -1.33256073e-01, -5.76353663e-02,  1.24809586e-02,\n",
       "        -8.42853026e-02, -4.09998550e-02,  1.41661964e-02],\n",
       "       [-1.91176805e+00, -1.24852631e-01,  7.00927541e-02,\n",
       "         1.15199720e-01,  2.12174016e+00,  2.27491453e+00,\n",
       "         1.68495626e+00,  2.93343502e-02, -8.18750290e-02,\n",
       "        -4.21759954e-02, -3.12208477e-02, -3.95795422e-02],\n",
       "       [-5.59779438e-01,  1.05530827e+00, -3.66213318e-01,\n",
       "         1.37143039e-01,  9.31516650e-01,  1.22704685e+00,\n",
       "         3.91130789e-01,  3.98890707e+00,  1.46026633e+01,\n",
       "         2.72625378e+01,  3.05667614e+01, -2.91445868e-01],\n",
       "       [-2.72142315e+00,  7.71501497e-01, -9.54481905e-02,\n",
       "         1.12223978e+00,  2.35211817e+00,  1.83761465e+00,\n",
       "         2.37090802e+00,  1.79975837e+02, -1.16667107e-01,\n",
       "        -8.99180854e-02, -1.11641291e-01, -3.18473157e+00]])"
      ]
     },
     "execution_count": 16,
     "metadata": {},
     "output_type": "execute_result"
    }
   ],
   "source": [
    "kmeans_gral.cluster_centers_"
   ]
  },
  {
   "cell_type": "code",
   "execution_count": 17,
   "metadata": {},
   "outputs": [
    {
     "data": {
      "text/plain": [
       "array([[-36.11987163, -10.65510231],\n",
       "       [-36.33450288, -10.96883153],\n",
       "       [-36.16374231, -10.92501142],\n",
       "       [-34.86245648,  32.79432114],\n",
       "       [143.4805733 ,  -0.24537588]])"
      ]
     },
     "execution_count": 17,
     "metadata": {},
     "output_type": "execute_result"
    }
   ],
   "source": [
    "pca = PCA(n_components = 2) #solo 2, para poder graficar en el eje X y eje Y\n",
    "Xcenters = pca.fit_transform(kmeans_gral.cluster_centers_)\n",
    "Xcenters"
   ]
  },
  {
   "cell_type": "code",
   "execution_count": 18,
   "metadata": {},
   "outputs": [
    {
     "data": {
      "image/png": "[encoded data removed]",
      "text/plain": [
       "<Figure size 720x360 with 1 Axes>"
      ]
     },
     "metadata": {
      "needs_background": "light"
     },
     "output_type": "display_data"
    }
   ],
   "source": [
    "#vamos a visualizar los resultados\n",
    "\n",
    "colors = ['darkorange', 'limegreen', 'blueviolet', 'chocolate', 'skyblue', 'tab:pink', 'tab:orange'] #ver más en: https://matplotlib.org/stable/gallery/color/named_colors.html\n",
    "fig, ax = plt.subplots(figsize=(10, 5))\n",
    "\n",
    "#graficamos los datos, cada uno con un color diferente representando un cluster\n",
    "for i in range(K):\n",
    "  points = np.array([Xescaled_short[j] for j in range (len(Xescaled_short)) if kmeans_gral.labels_[j] == i]) \n",
    "  ax.scatter(points[:,0], points[:,1], s=7, c = colors[i])\n",
    "\n",
    "#graficamos los centros de los clusters\n",
    "ax.scatter(Xcenters[:,0], Xcenters[:,1], marker='*',s=70, c='red')\n",
    "\n",
    "plt.title(\"Resultados iniciales\")\n",
    "plt.show()"
   ]
  },
  {
   "cell_type": "code",
   "execution_count": 19,
   "metadata": {},
   "outputs": [
    {
     "data": {
      "text/plain": [
       "array([1, 1, 1, ..., 1, 1, 0], dtype=int32)"
      ]
     },
     "execution_count": 19,
     "metadata": {},
     "output_type": "execute_result"
    }
   ],
   "source": [
    "#n_clusters: número de gruos a ser creados\n",
    "#n_init: número de repeticiones del algoritmo\n",
    "K = 5\n",
    "kmeans_gral = KMeans(n_clusters=K, random_state=0, n_init=50).fit(Xescaled)\n",
    "kmeans_gral.labels_ #grupos a los cuales cada elemeto "
   ]
  },
  {
   "cell_type": "code",
   "execution_count": 20,
   "metadata": {},
   "outputs": [
    {
     "name": "stderr",
     "output_type": "stream",
     "text": [
      "/Library/Frameworks/Python.framework/Versions/3.10/lib/python3.10/site-packages/yellowbrick/utils/kneed.py:156: YellowbrickWarning: No 'knee' or 'elbow point' detected This could be due to bad clustering, no actual clusters being formed etc.\n",
      "  warnings.warn(warning_message, YellowbrickWarning)\n",
      "/Library/Frameworks/Python.framework/Versions/3.10/lib/python3.10/site-packages/yellowbrick/cluster/elbow.py:374: YellowbrickWarning: No 'knee' or 'elbow' point detected, pass `locate_elbow=False` to remove the warning\n",
      "  warnings.warn(warning_message, YellowbrickWarning)\n"
     ]
    },
    {
     "data": {
      "image/png": "[encoded data removed]",
      "text/plain": [
       "<Figure size 432x288 with 2 Axes>"
      ]
     },
     "metadata": {},
     "output_type": "display_data"
    },
    {
     "data": {
      "text/plain": [
       "<AxesSubplot: title={'center': 'Distortion Score Elbow for KMeans Clustering'}, xlabel='k', ylabel='distortion score'>"
      ]
     },
     "execution_count": 20,
     "metadata": {},
     "output_type": "execute_result"
    }
   ],
   "source": [
    "#usar el metodo Elbow para determinar el mejor K\n",
    "\n",
    "visualizer = KElbowVisualizer(kmeans_gral, k=(2,6))\n",
    "\n",
    "visualizer.fit(Xescaled)        # Fit the data to the visualizer\n",
    "visualizer.show()        # Finalize and render the figure"
   ]
  },
  {
   "cell_type": "code",
   "execution_count": 21,
   "metadata": {},
   "outputs": [
    {
     "name": "stderr",
     "output_type": "stream",
     "text": [
      "/var/folders/wr/mv6w6lzj7qz936cjqy9_vrq40000gn/T/ipykernel_4459/3827958066.py:3: ConvergenceWarning: Number of distinct clusters (3) found smaller than n_clusters (5). Possibly due to duplicate points in X.\n",
      "  kmeans_sexo.fit(sexo_data)\n"
     ]
    }
   ],
   "source": [
    "sexo_data = df[['SEXO']]\n",
    "kmeans_sexo = KMeans(n_clusters=5, random_state=0, n_init=50)\n",
    "kmeans_sexo.fit(sexo_data)\n",
    "sexo_labels = kmeans_sexo.labels_"
   ]
  },
  {
   "cell_type": "code",
   "execution_count": 22,
   "metadata": {},
   "outputs": [],
   "source": [
    "df['CLUSTER_SEXO'] = sexo_labels"
   ]
  },
  {
   "cell_type": "code",
   "execution_count": 23,
   "metadata": {},
   "outputs": [
    {
     "data": {
      "image/png": "[encoded data removed]",
      "text/plain": [
       "<Figure size 1008x576 with 1 Axes>"
      ]
     },
     "metadata": {
      "needs_background": "light"
     },
     "output_type": "display_data"
    },
    {
     "data": {
      "image/png": "[encoded data removed]",
      "text/plain": [
       "<Figure size 1008x576 with 1 Axes>"
      ]
     },
     "metadata": {
      "needs_background": "light"
     },
     "output_type": "display_data"
    },
    {
     "data": {
      "image/png": "[encoded data removed]",
      "text/plain": [
       "<Figure size 1008x576 with 1 Axes>"
      ]
     },
     "metadata": {
      "needs_background": "light"
     },
     "output_type": "display_data"
    },
    {
     "data": {
      "image/png": "[encoded data removed]",
      "text/plain": [
       "<Figure size 1008x576 with 1 Axes>"
      ]
     },
     "metadata": {
      "needs_background": "light"
     },
     "output_type": "display_data"
    },
    {
     "data": {
      "image/png": "[encoded data removed]",
      "text/plain": [
       "<Figure size 1008x576 with 1 Axes>"
      ]
     },
     "metadata": {
      "needs_background": "light"
     },
     "output_type": "display_data"
    }
   ],
   "source": [
    "categorical_columns = ['COBERTURA', 'ENTIDAD', 'CAUSA DEL SINIESTRO', 'PLAN DE LA POLIZA', 'MODALIDAD DE LA POLIZA']\n",
    "\n",
    "for column in categorical_columns:\n",
    "    plt.figure(figsize=(14, 8))\n",
    "    sns.countplot(x=column, hue='CLUSTER_SEXO', data=df)\n",
    "    plt.title(f\"Distribución de clusters por {column} y sexo\")\n",
    "    plt.xticks(rotation=45)\n",
    "    plt.show()\n"
   ]
  },
  {
   "cell_type": "code",
   "execution_count": 25,
   "metadata": {},
   "outputs": [
    {
     "data": {
      "image/png": "[encoded data removed]",
      "text/plain": [
       "<Figure size 720x432 with 1 Axes>"
      ]
     },
     "metadata": {
      "needs_background": "light"
     },
     "output_type": "display_data"
    },
    {
     "data": {
      "image/png": "[encoded data removed]",
      "text/plain": [
       "<Figure size 720x432 with 1 Axes>"
      ]
     },
     "metadata": {
      "needs_background": "light"
     },
     "output_type": "display_data"
    }
   ],
   "source": [
    "numeric_columns = ['NUMERO DE SINIESTROS', 'EDAD']\n",
    "\n",
    "for column in numeric_columns:\n",
    "    plt.figure(figsize=(10, 6))\n",
    "    sns.barplot(x='CLUSTER_SEXO', y=column, data=df)\n",
    "    plt.title(f\"Distribución de {column} por clusters y sexo\")\n",
    "    plt.xticks(rotation=45)\n",
    "    plt.show()\n"
   ]
  }
 ],
 "metadata": {
  "kernelspec": {
   "display_name": "Python 3",
   "language": "python",
   "name": "python3"
  },
  "language_info": {
   "codemirror_mode": {
    "name": "ipython",
    "version": 3
   },
   "file_extension": ".py",
   "mimetype": "text/x-python",
   "name": "python",
   "nbconvert_exporter": "python",
   "pygments_lexer": "ipython3",
   "version": "3.10.1"
  },
  "orig_nbformat": 4
 },
 "nbformat": 4,
 "nbformat_minor": 2
}
